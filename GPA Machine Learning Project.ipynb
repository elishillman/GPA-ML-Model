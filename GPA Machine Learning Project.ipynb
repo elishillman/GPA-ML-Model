{
 "cells": [
  {
   "cell_type": "markdown",
   "metadata": {
    "tags": []
   },
   "source": [
    "                                       Eli Shillman\n",
    "\n"
   ]
  },
  {
   "cell_type": "markdown",
   "metadata": {},
   "source": [
    "## Table of Contents"
   ]
  },
  {
   "cell_type": "markdown",
   "metadata": {},
   "source": [
    "#### 1. Introduction\n",
    "\n",
    "* 1.1 Written Introduction\n",
    "\n",
    "* 1.2 Imports\n",
    "\n",
    "#### 2. Data Exploration\n",
    "\n",
    "* 2.1 Numeric Data Exploration\n",
    "    * 2.1.1 Max/Min Info for Numeric Variables\n",
    "    * 2.1.2 Numeric Variable Histograms\n",
    "\n",
    "* 2.2 Categorical Data Exploration\n",
    "    * 2.2.1 Categorical Variable Histograms\n",
    "* 2.3 Data Exploration Questions\n",
    "    \n",
    "#### 3. Data Cleaning\n",
    "\n",
    "* 3.1 Check for Null Values\n",
    "* 3.2 Handling Outliers\n",
    "* 3.3 Handling Latitude and Longitude\n",
    "\n",
    "#### 4. Evaluation\n",
    "\n",
    "#### 5. Modeling\n",
    "* 5.1 Preprocessing\n",
    "* 5.2 Training\n",
    "* 5.3 Testing My Own Information\n",
    "\n",
    "#### 6. Conclusion\n",
    "* 6.1 Process\n",
    "* 6.2 Model Success\n",
    "* 6.3 Moving Forward\n"
   ]
  },
  {
   "cell_type": "markdown",
   "metadata": {},
   "source": [
    "# Introduction"
   ]
  },
  {
   "cell_type": "markdown",
   "metadata": {},
   "source": [
    "## Written Introduction"
   ]
  },
  {
   "cell_type": "markdown",
   "metadata": {},
   "source": [
    "The dataset contains information about students at a university from a given semester.\n",
    "\n",
    "It contains information about the student's location, hours studied per week, parents' income, major, receiving tutoring, semester, credits taken, age, year of school, and the year it is.\n",
    "\n",
    "The dataset contains both numeric and categorical data that will be used in order to attempt to predict student GPA.\n",
    "\n",
    "Some challenges that might arise in attempting to predict GPA are:\n",
    "* Missing information\n",
    "* Non-holistic data (i.e. not accounting for all majors)\n",
    "* Grade inflation\n",
    "* Variables not included in the dataset that effect GPA\n",
    "\n",
    "There are solutions to some of these problems that will be explored throughout the process of predicting, namely missing data and grade inflation.\n",
    "\n",
    "Being able to predict student GPA is extremely useful for several reasons, such as: determining if a high school applicant should be admitted to the university, determining if a transfer applicant should be admitted to the university, predicting what a students final cumulative GPA will be, and determining what a student can do to help improve their GPA (if it is a controlable variable)."
   ]
  },
  {
   "cell_type": "markdown",
   "metadata": {},
   "source": [
    "## Imports"
   ]
  },
  {
   "cell_type": "markdown",
   "metadata": {},
   "source": [
    "* Pandas: Used to place data into dataframes\n",
    "* Numpy: Used to perform mathematical functions\n",
    "* Seaborn: Used to create plots\n",
    "* Matplotlib: Used to create plots\n",
    "* SKLearn (Imports in Modeling section): Used to train and test models and preprocess data\n",
    "* Scipy (Import in Data Exploration section): Used for hypothesis testing"
   ]
  },
  {
   "cell_type": "code",
   "execution_count": 1,
   "metadata": {},
   "outputs": [],
   "source": [
    "import pandas as pd\n",
    "import numpy as np\n",
    "import seaborn as sns\n",
    "import matplotlib.pyplot as plt"
   ]
  },
  {
   "cell_type": "code",
   "execution_count": 152,
   "metadata": {},
   "outputs": [],
   "source": [
    "sns.set_style('darkgrid') # darkgrid, white grid, dark, white and ticks\n",
    "plt.rc('axes', titlesize=24)     # fontsize of the axes title\n",
    "plt.rc('axes', labelsize=13)    # fontsize of the x and y labels\n",
    "plt.rc('xtick', labelsize=14)    # fontsize of the tick labels\n",
    "plt.rc('ytick', labelsize=14)    # fontsize of the tick labels\n",
    "plt.rc('legend', fontsize=13)    # legend fontsize\n",
    "plt.rc('font', size=13)"
   ]
  },
  {
   "cell_type": "code",
   "execution_count": 145,
   "metadata": {},
   "outputs": [
    {
     "data": {
      "text/html": [
       "<div>\n",
       "<style scoped>\n",
       "    .dataframe tbody tr th:only-of-type {\n",
       "        vertical-align: middle;\n",
       "    }\n",
       "\n",
       "    .dataframe tbody tr th {\n",
       "        vertical-align: top;\n",
       "    }\n",
       "\n",
       "    .dataframe thead th {\n",
       "        text-align: right;\n",
       "    }\n",
       "</style>\n",
       "<table border=\"1\" class=\"dataframe\">\n",
       "  <thead>\n",
       "    <tr style=\"text-align: right;\">\n",
       "      <th></th>\n",
       "      <th>id</th>\n",
       "      <th>lat</th>\n",
       "      <th>lon</th>\n",
       "      <th>gpa</th>\n",
       "      <th>avg_hours_studied</th>\n",
       "      <th>parents_income</th>\n",
       "      <th>major</th>\n",
       "      <th>tutoring</th>\n",
       "      <th>semester</th>\n",
       "      <th>year</th>\n",
       "      <th>credits</th>\n",
       "      <th>student_age</th>\n",
       "      <th>student_year</th>\n",
       "    </tr>\n",
       "  </thead>\n",
       "  <tbody>\n",
       "    <tr>\n",
       "      <th>0</th>\n",
       "      <td>13251</td>\n",
       "      <td>38.878529</td>\n",
       "      <td>-76.776049</td>\n",
       "      <td>3.64</td>\n",
       "      <td>5</td>\n",
       "      <td>68628.72693</td>\n",
       "      <td>Math</td>\n",
       "      <td>No</td>\n",
       "      <td>Fall</td>\n",
       "      <td>2007</td>\n",
       "      <td>15</td>\n",
       "      <td>26</td>\n",
       "      <td>Freshman</td>\n",
       "    </tr>\n",
       "    <tr>\n",
       "      <th>1</th>\n",
       "      <td>13251</td>\n",
       "      <td>38.878529</td>\n",
       "      <td>-76.776049</td>\n",
       "      <td>3.65</td>\n",
       "      <td>5</td>\n",
       "      <td>68628.72693</td>\n",
       "      <td>Math</td>\n",
       "      <td>No</td>\n",
       "      <td>Spring</td>\n",
       "      <td>2008</td>\n",
       "      <td>15</td>\n",
       "      <td>27</td>\n",
       "      <td>Freshman</td>\n",
       "    </tr>\n",
       "    <tr>\n",
       "      <th>2</th>\n",
       "      <td>13251</td>\n",
       "      <td>38.878529</td>\n",
       "      <td>-76.776049</td>\n",
       "      <td>4.00</td>\n",
       "      <td>5</td>\n",
       "      <td>68628.72693</td>\n",
       "      <td>Math</td>\n",
       "      <td>No</td>\n",
       "      <td>Fall</td>\n",
       "      <td>2008</td>\n",
       "      <td>9</td>\n",
       "      <td>27</td>\n",
       "      <td>Sophmore</td>\n",
       "    </tr>\n",
       "    <tr>\n",
       "      <th>3</th>\n",
       "      <td>13251</td>\n",
       "      <td>38.878529</td>\n",
       "      <td>-76.776049</td>\n",
       "      <td>4.00</td>\n",
       "      <td>4</td>\n",
       "      <td>68628.72693</td>\n",
       "      <td>Math</td>\n",
       "      <td>No</td>\n",
       "      <td>Spring</td>\n",
       "      <td>2009</td>\n",
       "      <td>9</td>\n",
       "      <td>28</td>\n",
       "      <td>Sophmore</td>\n",
       "    </tr>\n",
       "    <tr>\n",
       "      <th>4</th>\n",
       "      <td>13251</td>\n",
       "      <td>38.878529</td>\n",
       "      <td>-76.776049</td>\n",
       "      <td>3.30</td>\n",
       "      <td>4</td>\n",
       "      <td>68628.72693</td>\n",
       "      <td>Math</td>\n",
       "      <td>No</td>\n",
       "      <td>Fall</td>\n",
       "      <td>2009</td>\n",
       "      <td>18</td>\n",
       "      <td>28</td>\n",
       "      <td>Junior</td>\n",
       "    </tr>\n",
       "  </tbody>\n",
       "</table>\n",
       "</div>"
      ],
      "text/plain": [
       "      id        lat        lon   gpa  avg_hours_studied  parents_income major  \\\n",
       "0  13251  38.878529 -76.776049  3.64                  5     68628.72693  Math   \n",
       "1  13251  38.878529 -76.776049  3.65                  5     68628.72693  Math   \n",
       "2  13251  38.878529 -76.776049  4.00                  5     68628.72693  Math   \n",
       "3  13251  38.878529 -76.776049  4.00                  4     68628.72693  Math   \n",
       "4  13251  38.878529 -76.776049  3.30                  4     68628.72693  Math   \n",
       "\n",
       "  tutoring semester  year  credits  student_age student_year  \n",
       "0       No     Fall  2007       15           26     Freshman  \n",
       "1       No   Spring  2008       15           27     Freshman  \n",
       "2       No     Fall  2008        9           27     Sophmore  \n",
       "3       No   Spring  2009        9           28     Sophmore  \n",
       "4       No     Fall  2009       18           28       Junior  "
      ]
     },
     "execution_count": 145,
     "metadata": {},
     "output_type": "execute_result"
    }
   ],
   "source": [
    "all_data = pd.read_csv('my_data.csv')\n",
    "del all_data[all_data.columns[0]]\n",
    "all_data.head()"
   ]
  },
  {
   "cell_type": "markdown",
   "metadata": {},
   "source": [
    "# Data Exploration"
   ]
  },
  {
   "cell_type": "markdown",
   "metadata": {},
   "source": [
    "## Numeric Data Exploration"
   ]
  },
  {
   "cell_type": "code",
   "execution_count": 4,
   "metadata": {},
   "outputs": [
    {
     "data": {
      "text/html": [
       "<div>\n",
       "<style scoped>\n",
       "    .dataframe tbody tr th:only-of-type {\n",
       "        vertical-align: middle;\n",
       "    }\n",
       "\n",
       "    .dataframe tbody tr th {\n",
       "        vertical-align: top;\n",
       "    }\n",
       "\n",
       "    .dataframe thead th {\n",
       "        text-align: right;\n",
       "    }\n",
       "</style>\n",
       "<table border=\"1\" class=\"dataframe\">\n",
       "  <thead>\n",
       "    <tr style=\"text-align: right;\">\n",
       "      <th></th>\n",
       "      <th>count</th>\n",
       "      <th>mean</th>\n",
       "      <th>std</th>\n",
       "      <th>min</th>\n",
       "      <th>25%</th>\n",
       "      <th>50%</th>\n",
       "      <th>75%</th>\n",
       "      <th>max</th>\n",
       "    </tr>\n",
       "  </thead>\n",
       "  <tbody>\n",
       "    <tr>\n",
       "      <th>id</th>\n",
       "      <td>1000000.0</td>\n",
       "      <td>63250.500000</td>\n",
       "      <td>28867.527892</td>\n",
       "      <td>13251.000000</td>\n",
       "      <td>38250.750000</td>\n",
       "      <td>63250.500000</td>\n",
       "      <td>88250.250000</td>\n",
       "      <td>113250.000000</td>\n",
       "    </tr>\n",
       "    <tr>\n",
       "      <th>lat</th>\n",
       "      <td>1000000.0</td>\n",
       "      <td>37.572477</td>\n",
       "      <td>2.772581</td>\n",
       "      <td>31.899546</td>\n",
       "      <td>38.399398</td>\n",
       "      <td>39.050620</td>\n",
       "      <td>39.296096</td>\n",
       "      <td>40.196585</td>\n",
       "    </tr>\n",
       "    <tr>\n",
       "      <th>lon</th>\n",
       "      <td>1000000.0</td>\n",
       "      <td>-84.171482</td>\n",
       "      <td>7.572241</td>\n",
       "      <td>-94.754033</td>\n",
       "      <td>-93.387511</td>\n",
       "      <td>-77.548696</td>\n",
       "      <td>-76.812233</td>\n",
       "      <td>-75.790679</td>\n",
       "    </tr>\n",
       "    <tr>\n",
       "      <th>gpa</th>\n",
       "      <td>1000000.0</td>\n",
       "      <td>3.557863</td>\n",
       "      <td>0.607225</td>\n",
       "      <td>0.000000</td>\n",
       "      <td>3.210000</td>\n",
       "      <td>3.870000</td>\n",
       "      <td>4.000000</td>\n",
       "      <td>4.100000</td>\n",
       "    </tr>\n",
       "    <tr>\n",
       "      <th>avg_hours_studied</th>\n",
       "      <td>1000000.0</td>\n",
       "      <td>5.437559</td>\n",
       "      <td>100.959857</td>\n",
       "      <td>0.000000</td>\n",
       "      <td>3.000000</td>\n",
       "      <td>4.000000</td>\n",
       "      <td>5.000000</td>\n",
       "      <td>10000.000000</td>\n",
       "    </tr>\n",
       "    <tr>\n",
       "      <th>parents_income</th>\n",
       "      <td>1000000.0</td>\n",
       "      <td>88670.500485</td>\n",
       "      <td>30835.445794</td>\n",
       "      <td>18229.301767</td>\n",
       "      <td>64680.880300</td>\n",
       "      <td>79932.013390</td>\n",
       "      <td>109623.813422</td>\n",
       "      <td>196273.337246</td>\n",
       "    </tr>\n",
       "    <tr>\n",
       "      <th>year</th>\n",
       "      <td>1000000.0</td>\n",
       "      <td>2014.978660</td>\n",
       "      <td>4.857990</td>\n",
       "      <td>2005.000000</td>\n",
       "      <td>2011.000000</td>\n",
       "      <td>2015.000000</td>\n",
       "      <td>2019.000000</td>\n",
       "      <td>2025.000000</td>\n",
       "    </tr>\n",
       "    <tr>\n",
       "      <th>credits</th>\n",
       "      <td>1000000.0</td>\n",
       "      <td>13.496022</td>\n",
       "      <td>3.353377</td>\n",
       "      <td>9.000000</td>\n",
       "      <td>9.000000</td>\n",
       "      <td>12.000000</td>\n",
       "      <td>15.000000</td>\n",
       "      <td>18.000000</td>\n",
       "    </tr>\n",
       "    <tr>\n",
       "      <th>student_age</th>\n",
       "      <td>1000000.0</td>\n",
       "      <td>21.234460</td>\n",
       "      <td>2.506658</td>\n",
       "      <td>17.000000</td>\n",
       "      <td>20.000000</td>\n",
       "      <td>21.000000</td>\n",
       "      <td>22.000000</td>\n",
       "      <td>33.000000</td>\n",
       "    </tr>\n",
       "  </tbody>\n",
       "</table>\n",
       "</div>"
      ],
      "text/plain": [
       "                       count          mean           std           min  \\\n",
       "id                 1000000.0  63250.500000  28867.527892  13251.000000   \n",
       "lat                1000000.0     37.572477      2.772581     31.899546   \n",
       "lon                1000000.0    -84.171482      7.572241    -94.754033   \n",
       "gpa                1000000.0      3.557863      0.607225      0.000000   \n",
       "avg_hours_studied  1000000.0      5.437559    100.959857      0.000000   \n",
       "parents_income     1000000.0  88670.500485  30835.445794  18229.301767   \n",
       "year               1000000.0   2014.978660      4.857990   2005.000000   \n",
       "credits            1000000.0     13.496022      3.353377      9.000000   \n",
       "student_age        1000000.0     21.234460      2.506658     17.000000   \n",
       "\n",
       "                            25%           50%            75%            max  \n",
       "id                 38250.750000  63250.500000   88250.250000  113250.000000  \n",
       "lat                   38.399398     39.050620      39.296096      40.196585  \n",
       "lon                  -93.387511    -77.548696     -76.812233     -75.790679  \n",
       "gpa                    3.210000      3.870000       4.000000       4.100000  \n",
       "avg_hours_studied      3.000000      4.000000       5.000000   10000.000000  \n",
       "parents_income     64680.880300  79932.013390  109623.813422  196273.337246  \n",
       "year                2011.000000   2015.000000    2019.000000    2025.000000  \n",
       "credits                9.000000     12.000000      15.000000      18.000000  \n",
       "student_age           20.000000     21.000000      22.000000      33.000000  "
      ]
     },
     "execution_count": 4,
     "metadata": {},
     "output_type": "execute_result"
    }
   ],
   "source": [
    "numeric = all_data.select_dtypes(include=[np.number])\n",
    "numeric.describe().T"
   ]
  },
  {
   "cell_type": "markdown",
   "metadata": {},
   "source": [
    "* Average location is in central Kentucky\n",
    "\n",
    "* Income has high standard deviation\n",
    "\n",
    "* Data spans from 2005 to 2025. Assume this data takes place in 2025 moving forwards\n",
    "\n",
    "* Bad data in hours studied (10,000 max). These students will be entirely removed from the data. "
   ]
  },
  {
   "cell_type": "code",
   "execution_count": 5,
   "metadata": {},
   "outputs": [],
   "source": [
    "numeric = numeric[numeric['avg_hours_studied'] < 9999]"
   ]
  },
  {
   "cell_type": "markdown",
   "metadata": {},
   "source": [
    "### Min/Max Info for Numeric Variables"
   ]
  },
  {
   "cell_type": "code",
   "execution_count": 6,
   "metadata": {},
   "outputs": [
    {
     "data": {
      "text/html": [
       "<div>\n",
       "<style scoped>\n",
       "    .dataframe tbody tr th:only-of-type {\n",
       "        vertical-align: middle;\n",
       "    }\n",
       "\n",
       "    .dataframe tbody tr th {\n",
       "        vertical-align: top;\n",
       "    }\n",
       "\n",
       "    .dataframe thead th {\n",
       "        text-align: right;\n",
       "    }\n",
       "</style>\n",
       "<table border=\"1\" class=\"dataframe\">\n",
       "  <thead>\n",
       "    <tr style=\"text-align: right;\">\n",
       "      <th></th>\n",
       "      <th>min</th>\n",
       "      <th>max</th>\n",
       "    </tr>\n",
       "  </thead>\n",
       "  <tbody>\n",
       "    <tr>\n",
       "      <th>id</th>\n",
       "      <td>13251.000000</td>\n",
       "      <td>113250.000000</td>\n",
       "    </tr>\n",
       "    <tr>\n",
       "      <th>lat</th>\n",
       "      <td>31.899546</td>\n",
       "      <td>40.196585</td>\n",
       "    </tr>\n",
       "    <tr>\n",
       "      <th>lon</th>\n",
       "      <td>-94.754033</td>\n",
       "      <td>-75.790679</td>\n",
       "    </tr>\n",
       "    <tr>\n",
       "      <th>gpa</th>\n",
       "      <td>0.000000</td>\n",
       "      <td>4.100000</td>\n",
       "    </tr>\n",
       "    <tr>\n",
       "      <th>avg_hours_studied</th>\n",
       "      <td>0.000000</td>\n",
       "      <td>11.000000</td>\n",
       "    </tr>\n",
       "    <tr>\n",
       "      <th>parents_income</th>\n",
       "      <td>18229.301767</td>\n",
       "      <td>196273.337246</td>\n",
       "    </tr>\n",
       "    <tr>\n",
       "      <th>year</th>\n",
       "      <td>2005.000000</td>\n",
       "      <td>2025.000000</td>\n",
       "    </tr>\n",
       "    <tr>\n",
       "      <th>credits</th>\n",
       "      <td>9.000000</td>\n",
       "      <td>18.000000</td>\n",
       "    </tr>\n",
       "    <tr>\n",
       "      <th>student_age</th>\n",
       "      <td>17.000000</td>\n",
       "      <td>33.000000</td>\n",
       "    </tr>\n",
       "  </tbody>\n",
       "</table>\n",
       "</div>"
      ],
      "text/plain": [
       "                            min            max\n",
       "id                 13251.000000  113250.000000\n",
       "lat                   31.899546      40.196585\n",
       "lon                  -94.754033     -75.790679\n",
       "gpa                    0.000000       4.100000\n",
       "avg_hours_studied      0.000000      11.000000\n",
       "parents_income     18229.301767  196273.337246\n",
       "year                2005.000000    2025.000000\n",
       "credits                9.000000      18.000000\n",
       "student_age           17.000000      33.000000"
      ]
     },
     "execution_count": 6,
     "metadata": {},
     "output_type": "execute_result"
    }
   ],
   "source": [
    "numeric.describe().T[['min','max']]"
   ]
  },
  {
   "cell_type": "markdown",
   "metadata": {},
   "source": [
    "### Numeric Variable Histograms"
   ]
  },
  {
   "cell_type": "code",
   "execution_count": 156,
   "metadata": {},
   "outputs": [
    {
     "data": {
      "image/png": "[encoded data removed]",
      "text/plain": [
       "<Figure size 360x216 with 1 Axes>"
      ]
     },
     "metadata": {},
     "output_type": "display_data"
    }
   ],
   "source": [
    "plt.figure(figsize=(5,3), tight_layout=True)\n",
    "ax = sns.histplot(data=all_data, x = 'id')\n",
    "ax.set(title='id Histogram')\n",
    "plt.show()"
   ]
  },
  {
   "cell_type": "markdown",
   "metadata": {},
   "source": [
    "id is not a variable represented well by a histogram"
   ]
  },
  {
   "cell_type": "code",
   "execution_count": 155,
   "metadata": {},
   "outputs": [
    {
     "data": {
      "image/png": "[encoded data removed]",
      "text/plain": [
       "<Figure size 360x216 with 1 Axes>"
      ]
     },
     "metadata": {},
     "output_type": "display_data"
    }
   ],
   "source": [
    "plt.figure(figsize=(5,3), tight_layout=True)\n",
    "ax = sns.histplot(data=all_data, x = 'lat')\n",
    "ax.set(title='Latitude Histogram')\n",
    "plt.show()"
   ]
  },
  {
   "cell_type": "markdown",
   "metadata": {},
   "source": [
    "Two clusters of locations around ~33 latitude and ~39 longitude"
   ]
  },
  {
   "cell_type": "code",
   "execution_count": 154,
   "metadata": {},
   "outputs": [
    {
     "data": {
      "image/png": "[encoded data removed]",
      "text/plain": [
       "<Figure size 360x216 with 1 Axes>"
      ]
     },
     "metadata": {},
     "output_type": "display_data"
    }
   ],
   "source": [
    "plt.figure(figsize=(5,3), tight_layout=True)\n",
    "ax = sns.histplot(data=all_data, x = 'lon')\n",
    "ax.set(title='Longitude Histogram')\n",
    "plt.show()"
   ]
  },
  {
   "cell_type": "markdown",
   "metadata": {},
   "source": [
    "Three clusters around -94 longitude, -89 longitude, and -77 longitude.\n",
    "\n",
    "Latitude and Longitude will be useful to use in conjunction. Will seperate the students into clusters of where they live, as there are clearly a few locations where most students live. Can also be used to track students across semesters."
   ]
  },
  {
   "cell_type": "code",
   "execution_count": 153,
   "metadata": {},
   "outputs": [
    {
     "data": {
      "image/png": "[encoded data removed]",
      "text/plain": [
       "<Figure size 360x216 with 1 Axes>"
      ]
     },
     "metadata": {},
     "output_type": "display_data"
    }
   ],
   "source": [
    "plt.figure(figsize=(5,3), tight_layout=True)\n",
    "ax = sns.histplot(data=all_data, x = 'gpa')\n",
    "ax.set(title='GPA Histogram')\n",
    "plt.show()"
   ]
  },
  {
   "cell_type": "code",
   "execution_count": 11,
   "metadata": {},
   "outputs": [
    {
     "data": {
      "text/plain": [
       "4.00    378377\n",
       "4.10     83952\n",
       "3.63      4752\n",
       "3.66      4658\n",
       "3.65      4624\n",
       "Name: gpa, dtype: int64"
      ]
     },
     "execution_count": 11,
     "metadata": {},
     "output_type": "execute_result"
    }
   ],
   "source": [
    "numeric['gpa'].value_counts().head()"
   ]
  },
  {
   "cell_type": "markdown",
   "metadata": {},
   "source": [
    "A disproportionately high amount of students got a 4.0 GPA, over a third of data points. Grade inflation is an issue at this university."
   ]
  },
  {
   "cell_type": "code",
   "execution_count": 12,
   "metadata": {},
   "outputs": [
    {
     "data": {
      "image/png": "[encoded data removed]",
      "text/plain": [
       "<Figure size 504x360 with 1 Axes>"
      ]
     },
     "metadata": {},
     "output_type": "display_data"
    }
   ],
   "source": [
    "plt.figure(figsize=(5,3), tight_layout=True)\n",
    "ax = sns.histplot(data=all_data, x = 'parents_income')\n",
    "ax.set(title='Parent Income Histogram')\n",
    "plt.show()"
   ]
  },
  {
   "cell_type": "code",
   "execution_count": 166,
   "metadata": {},
   "outputs": [
    {
     "data": {
      "image/png": "[encoded data removed]",
      "text/plain": [
       "<Figure size 864x288 with 1 Axes>"
      ]
     },
     "metadata": {},
     "output_type": "display_data"
    }
   ],
   "source": [
    "numeric['income_bin'] = pd.cut(numeric['parents_income']/10000, bins=range(0,21,2), labels=[f'{l}-{l+2}' for l in range(0,19,2)])\n",
    "plt.figure(figsize=(12,4), tight_layout=True)\n",
    "ax = sns.barplot(x='income_bin', y='gpa', data=numeric)\n",
    "ax.set(title='Parents Income VS GPA', xlabel='Parents Income Range (10,000)')\n",
    "plt.show()"
   ]
  },
  {
   "cell_type": "markdown",
   "metadata": {},
   "source": [
    "Fairly well distributed. Slightly skewed left. Looks like higher income parents lead to significantly higher GPA. Will likely be useful in predicting GPA."
   ]
  },
  {
   "cell_type": "code",
   "execution_count": 14,
   "metadata": {},
   "outputs": [
    {
     "data": {
      "image/png": "[encoded data removed]",
      "text/plain": [
       "<Figure size 504x360 with 1 Axes>"
      ]
     },
     "metadata": {},
     "output_type": "display_data"
    }
   ],
   "source": [
    "plt.figure(figsize=(5,3), tight_layout=True)\n",
    "ax = sns.histplot(data=all_data, x = 'year')\n",
    "ax.set(title='Year Histogram')\n",
    "plt.show()"
   ]
  },
  {
   "cell_type": "markdown",
   "metadata": {},
   "source": [
    "Well distributed"
   ]
  },
  {
   "cell_type": "code",
   "execution_count": 129,
   "metadata": {},
   "outputs": [
    {
     "data": {
      "image/png": "[encoded data removed]",
      "text/plain": [
       "<Figure size 1224x576 with 1 Axes>"
      ]
     },
     "metadata": {},
     "output_type": "display_data"
    }
   ],
   "source": [
    "plt.figure(figsize=(17,8), tight_layout=True)\n",
    "ax = sns.lineplot(x='year', y='gpa', data=numeric)\n",
    "ax.set(title='Year vs GPA')\n",
    "plt.show()"
   ]
  },
  {
   "cell_type": "code",
   "execution_count": 16,
   "metadata": {},
   "outputs": [
    {
     "data": {
      "text/html": [
       "<div>\n",
       "<style scoped>\n",
       "    .dataframe tbody tr th:only-of-type {\n",
       "        vertical-align: middle;\n",
       "    }\n",
       "\n",
       "    .dataframe tbody tr th {\n",
       "        vertical-align: top;\n",
       "    }\n",
       "\n",
       "    .dataframe thead th {\n",
       "        text-align: right;\n",
       "    }\n",
       "</style>\n",
       "<table border=\"1\" class=\"dataframe\">\n",
       "  <thead>\n",
       "    <tr style=\"text-align: right;\">\n",
       "      <th></th>\n",
       "      <th>count</th>\n",
       "      <th>mean</th>\n",
       "      <th>std</th>\n",
       "      <th>min</th>\n",
       "      <th>25%</th>\n",
       "      <th>50%</th>\n",
       "      <th>75%</th>\n",
       "      <th>max</th>\n",
       "    </tr>\n",
       "    <tr>\n",
       "      <th>year</th>\n",
       "      <th></th>\n",
       "      <th></th>\n",
       "      <th></th>\n",
       "      <th></th>\n",
       "      <th></th>\n",
       "      <th></th>\n",
       "      <th></th>\n",
       "      <th></th>\n",
       "    </tr>\n",
       "  </thead>\n",
       "  <tbody>\n",
       "    <tr>\n",
       "      <th>2005</th>\n",
       "      <td>6391.0</td>\n",
       "      <td>3.387655</td>\n",
       "      <td>0.660821</td>\n",
       "      <td>0.56</td>\n",
       "      <td>2.8600</td>\n",
       "      <td>3.59</td>\n",
       "      <td>4.0</td>\n",
       "      <td>4.0</td>\n",
       "    </tr>\n",
       "    <tr>\n",
       "      <th>2006</th>\n",
       "      <td>19018.0</td>\n",
       "      <td>3.456335</td>\n",
       "      <td>0.652258</td>\n",
       "      <td>0.00</td>\n",
       "      <td>2.9400</td>\n",
       "      <td>3.64</td>\n",
       "      <td>4.0</td>\n",
       "      <td>4.1</td>\n",
       "    </tr>\n",
       "    <tr>\n",
       "      <th>2007</th>\n",
       "      <td>31503.0</td>\n",
       "      <td>3.473509</td>\n",
       "      <td>0.648622</td>\n",
       "      <td>0.10</td>\n",
       "      <td>3.0200</td>\n",
       "      <td>3.67</td>\n",
       "      <td>4.0</td>\n",
       "      <td>4.1</td>\n",
       "    </tr>\n",
       "    <tr>\n",
       "      <th>2008</th>\n",
       "      <td>44104.0</td>\n",
       "      <td>3.484955</td>\n",
       "      <td>0.648002</td>\n",
       "      <td>0.10</td>\n",
       "      <td>3.0800</td>\n",
       "      <td>3.70</td>\n",
       "      <td>4.0</td>\n",
       "      <td>4.1</td>\n",
       "    </tr>\n",
       "    <tr>\n",
       "      <th>2009</th>\n",
       "      <td>56828.0</td>\n",
       "      <td>3.493360</td>\n",
       "      <td>0.645664</td>\n",
       "      <td>0.20</td>\n",
       "      <td>3.1000</td>\n",
       "      <td>3.73</td>\n",
       "      <td>4.0</td>\n",
       "      <td>4.1</td>\n",
       "    </tr>\n",
       "    <tr>\n",
       "      <th>2010</th>\n",
       "      <td>63006.0</td>\n",
       "      <td>3.504140</td>\n",
       "      <td>0.642288</td>\n",
       "      <td>0.00</td>\n",
       "      <td>3.1300</td>\n",
       "      <td>3.76</td>\n",
       "      <td>4.0</td>\n",
       "      <td>4.1</td>\n",
       "    </tr>\n",
       "    <tr>\n",
       "      <th>2011</th>\n",
       "      <td>62813.0</td>\n",
       "      <td>3.516511</td>\n",
       "      <td>0.634129</td>\n",
       "      <td>0.23</td>\n",
       "      <td>3.1500</td>\n",
       "      <td>3.77</td>\n",
       "      <td>4.0</td>\n",
       "      <td>4.1</td>\n",
       "    </tr>\n",
       "    <tr>\n",
       "      <th>2012</th>\n",
       "      <td>62756.0</td>\n",
       "      <td>3.527025</td>\n",
       "      <td>0.628130</td>\n",
       "      <td>0.00</td>\n",
       "      <td>3.1700</td>\n",
       "      <td>3.79</td>\n",
       "      <td>4.0</td>\n",
       "      <td>4.1</td>\n",
       "    </tr>\n",
       "    <tr>\n",
       "      <th>2013</th>\n",
       "      <td>62497.0</td>\n",
       "      <td>3.537920</td>\n",
       "      <td>0.621052</td>\n",
       "      <td>0.00</td>\n",
       "      <td>3.1900</td>\n",
       "      <td>3.82</td>\n",
       "      <td>4.0</td>\n",
       "      <td>4.1</td>\n",
       "    </tr>\n",
       "    <tr>\n",
       "      <th>2014</th>\n",
       "      <td>62258.0</td>\n",
       "      <td>3.548706</td>\n",
       "      <td>0.611139</td>\n",
       "      <td>0.00</td>\n",
       "      <td>3.2000</td>\n",
       "      <td>3.83</td>\n",
       "      <td>4.0</td>\n",
       "      <td>4.1</td>\n",
       "    </tr>\n",
       "    <tr>\n",
       "      <th>2015</th>\n",
       "      <td>62109.0</td>\n",
       "      <td>3.560522</td>\n",
       "      <td>0.603607</td>\n",
       "      <td>0.00</td>\n",
       "      <td>3.2200</td>\n",
       "      <td>3.85</td>\n",
       "      <td>4.0</td>\n",
       "      <td>4.1</td>\n",
       "    </tr>\n",
       "    <tr>\n",
       "      <th>2016</th>\n",
       "      <td>61992.0</td>\n",
       "      <td>3.568901</td>\n",
       "      <td>0.597359</td>\n",
       "      <td>0.37</td>\n",
       "      <td>3.2400</td>\n",
       "      <td>3.87</td>\n",
       "      <td>4.0</td>\n",
       "      <td>4.1</td>\n",
       "    </tr>\n",
       "    <tr>\n",
       "      <th>2017</th>\n",
       "      <td>61933.0</td>\n",
       "      <td>3.581189</td>\n",
       "      <td>0.589095</td>\n",
       "      <td>0.00</td>\n",
       "      <td>3.2700</td>\n",
       "      <td>3.89</td>\n",
       "      <td>4.0</td>\n",
       "      <td>4.1</td>\n",
       "    </tr>\n",
       "    <tr>\n",
       "      <th>2018</th>\n",
       "      <td>61998.0</td>\n",
       "      <td>3.591775</td>\n",
       "      <td>0.581697</td>\n",
       "      <td>0.00</td>\n",
       "      <td>3.2900</td>\n",
       "      <td>3.91</td>\n",
       "      <td>4.0</td>\n",
       "      <td>4.1</td>\n",
       "    </tr>\n",
       "    <tr>\n",
       "      <th>2019</th>\n",
       "      <td>62103.0</td>\n",
       "      <td>3.605869</td>\n",
       "      <td>0.572723</td>\n",
       "      <td>0.36</td>\n",
       "      <td>3.3200</td>\n",
       "      <td>3.94</td>\n",
       "      <td>4.0</td>\n",
       "      <td>4.1</td>\n",
       "    </tr>\n",
       "    <tr>\n",
       "      <th>2020</th>\n",
       "      <td>62243.0</td>\n",
       "      <td>3.614347</td>\n",
       "      <td>0.568060</td>\n",
       "      <td>0.46</td>\n",
       "      <td>3.3300</td>\n",
       "      <td>3.96</td>\n",
       "      <td>4.0</td>\n",
       "      <td>4.1</td>\n",
       "    </tr>\n",
       "    <tr>\n",
       "      <th>2021</th>\n",
       "      <td>56159.0</td>\n",
       "      <td>3.626961</td>\n",
       "      <td>0.560327</td>\n",
       "      <td>0.41</td>\n",
       "      <td>3.3800</td>\n",
       "      <td>4.00</td>\n",
       "      <td>4.0</td>\n",
       "      <td>4.1</td>\n",
       "    </tr>\n",
       "    <tr>\n",
       "      <th>2022</th>\n",
       "      <td>43786.0</td>\n",
       "      <td>3.629573</td>\n",
       "      <td>0.556866</td>\n",
       "      <td>0.46</td>\n",
       "      <td>3.3900</td>\n",
       "      <td>4.00</td>\n",
       "      <td>4.0</td>\n",
       "      <td>4.1</td>\n",
       "    </tr>\n",
       "    <tr>\n",
       "      <th>2023</th>\n",
       "      <td>31380.0</td>\n",
       "      <td>3.632970</td>\n",
       "      <td>0.556086</td>\n",
       "      <td>0.40</td>\n",
       "      <td>3.4000</td>\n",
       "      <td>4.00</td>\n",
       "      <td>4.0</td>\n",
       "      <td>4.1</td>\n",
       "    </tr>\n",
       "    <tr>\n",
       "      <th>2024</th>\n",
       "      <td>18793.0</td>\n",
       "      <td>3.637109</td>\n",
       "      <td>0.553118</td>\n",
       "      <td>0.46</td>\n",
       "      <td>3.4200</td>\n",
       "      <td>4.00</td>\n",
       "      <td>4.0</td>\n",
       "      <td>4.1</td>\n",
       "    </tr>\n",
       "    <tr>\n",
       "      <th>2025</th>\n",
       "      <td>6228.0</td>\n",
       "      <td>3.644038</td>\n",
       "      <td>0.550194</td>\n",
       "      <td>0.83</td>\n",
       "      <td>3.4175</td>\n",
       "      <td>4.00</td>\n",
       "      <td>4.0</td>\n",
       "      <td>4.1</td>\n",
       "    </tr>\n",
       "  </tbody>\n",
       "</table>\n",
       "</div>"
      ],
      "text/plain": [
       "        count      mean       std   min     25%   50%  75%  max\n",
       "year                                                           \n",
       "2005   6391.0  3.387655  0.660821  0.56  2.8600  3.59  4.0  4.0\n",
       "2006  19018.0  3.456335  0.652258  0.00  2.9400  3.64  4.0  4.1\n",
       "2007  31503.0  3.473509  0.648622  0.10  3.0200  3.67  4.0  4.1\n",
       "2008  44104.0  3.484955  0.648002  0.10  3.0800  3.70  4.0  4.1\n",
       "2009  56828.0  3.493360  0.645664  0.20  3.1000  3.73  4.0  4.1\n",
       "2010  63006.0  3.504140  0.642288  0.00  3.1300  3.76  4.0  4.1\n",
       "2011  62813.0  3.516511  0.634129  0.23  3.1500  3.77  4.0  4.1\n",
       "2012  62756.0  3.527025  0.628130  0.00  3.1700  3.79  4.0  4.1\n",
       "2013  62497.0  3.537920  0.621052  0.00  3.1900  3.82  4.0  4.1\n",
       "2014  62258.0  3.548706  0.611139  0.00  3.2000  3.83  4.0  4.1\n",
       "2015  62109.0  3.560522  0.603607  0.00  3.2200  3.85  4.0  4.1\n",
       "2016  61992.0  3.568901  0.597359  0.37  3.2400  3.87  4.0  4.1\n",
       "2017  61933.0  3.581189  0.589095  0.00  3.2700  3.89  4.0  4.1\n",
       "2018  61998.0  3.591775  0.581697  0.00  3.2900  3.91  4.0  4.1\n",
       "2019  62103.0  3.605869  0.572723  0.36  3.3200  3.94  4.0  4.1\n",
       "2020  62243.0  3.614347  0.568060  0.46  3.3300  3.96  4.0  4.1\n",
       "2021  56159.0  3.626961  0.560327  0.41  3.3800  4.00  4.0  4.1\n",
       "2022  43786.0  3.629573  0.556866  0.46  3.3900  4.00  4.0  4.1\n",
       "2023  31380.0  3.632970  0.556086  0.40  3.4000  4.00  4.0  4.1\n",
       "2024  18793.0  3.637109  0.553118  0.46  3.4200  4.00  4.0  4.1\n",
       "2025   6228.0  3.644038  0.550194  0.83  3.4175  4.00  4.0  4.1"
      ]
     },
     "execution_count": 16,
     "metadata": {},
     "output_type": "execute_result"
    }
   ],
   "source": [
    "numeric.groupby(['year'])['gpa'].describe()"
   ]
  },
  {
   "cell_type": "markdown",
   "metadata": {},
   "source": [
    "Average GPA has increased over time. This is further evidence of grade inflation over the years. The median GPA has been 4.0 since 2021."
   ]
  },
  {
   "cell_type": "code",
   "execution_count": 165,
   "metadata": {},
   "outputs": [
    {
     "data": {
      "image/png": "[encoded data removed]",
      "text/plain": [
       "<Figure size 360x216 with 1 Axes>"
      ]
     },
     "metadata": {},
     "output_type": "display_data"
    }
   ],
   "source": [
    "plt.figure(figsize=(5,3), tight_layout=True)\n",
    "ax = sns.histplot(data=all_data, x = 'credits')\n",
    "ax.set(title='Credits Histogram')\n",
    "plt.show()"
   ]
  },
  {
   "cell_type": "code",
   "execution_count": 18,
   "metadata": {},
   "outputs": [
    {
     "data": {
      "image/png": "[encoded data removed]",
      "text/plain": [
       "<Figure size 720x360 with 1 Axes>"
      ]
     },
     "metadata": {},
     "output_type": "display_data"
    }
   ],
   "source": [
    "plt.figure(figsize=(10,5), tight_layout=True)\n",
    "ax = sns.barplot(x='credits', y='gpa', data=numeric)\n",
    "ax.set(title='Credits vs GPA')\n",
    "plt.show()"
   ]
  },
  {
   "cell_type": "code",
   "execution_count": 19,
   "metadata": {},
   "outputs": [
    {
     "data": {
      "text/html": [
       "<div>\n",
       "<style scoped>\n",
       "    .dataframe tbody tr th:only-of-type {\n",
       "        vertical-align: middle;\n",
       "    }\n",
       "\n",
       "    .dataframe tbody tr th {\n",
       "        vertical-align: top;\n",
       "    }\n",
       "\n",
       "    .dataframe thead th {\n",
       "        text-align: right;\n",
       "    }\n",
       "</style>\n",
       "<table border=\"1\" class=\"dataframe\">\n",
       "  <thead>\n",
       "    <tr style=\"text-align: right;\">\n",
       "      <th></th>\n",
       "      <th>count</th>\n",
       "      <th>mean</th>\n",
       "      <th>std</th>\n",
       "      <th>min</th>\n",
       "      <th>25%</th>\n",
       "      <th>50%</th>\n",
       "      <th>75%</th>\n",
       "      <th>max</th>\n",
       "    </tr>\n",
       "    <tr>\n",
       "      <th>credits</th>\n",
       "      <th></th>\n",
       "      <th></th>\n",
       "      <th></th>\n",
       "      <th></th>\n",
       "      <th></th>\n",
       "      <th></th>\n",
       "      <th></th>\n",
       "      <th></th>\n",
       "    </tr>\n",
       "  </thead>\n",
       "  <tbody>\n",
       "    <tr>\n",
       "      <th>9</th>\n",
       "      <td>250238.0</td>\n",
       "      <td>3.757831</td>\n",
       "      <td>0.443252</td>\n",
       "      <td>0.48</td>\n",
       "      <td>3.62</td>\n",
       "      <td>4.00</td>\n",
       "      <td>4.0</td>\n",
       "      <td>4.1</td>\n",
       "    </tr>\n",
       "    <tr>\n",
       "      <th>12</th>\n",
       "      <td>250229.0</td>\n",
       "      <td>3.652293</td>\n",
       "      <td>0.537938</td>\n",
       "      <td>0.00</td>\n",
       "      <td>3.33</td>\n",
       "      <td>4.00</td>\n",
       "      <td>4.0</td>\n",
       "      <td>4.1</td>\n",
       "    </tr>\n",
       "    <tr>\n",
       "      <th>15</th>\n",
       "      <td>249986.0</td>\n",
       "      <td>3.499521</td>\n",
       "      <td>0.614747</td>\n",
       "      <td>0.00</td>\n",
       "      <td>3.04</td>\n",
       "      <td>3.76</td>\n",
       "      <td>4.0</td>\n",
       "      <td>4.1</td>\n",
       "    </tr>\n",
       "    <tr>\n",
       "      <th>18</th>\n",
       "      <td>249445.0</td>\n",
       "      <td>3.321023</td>\n",
       "      <td>0.709446</td>\n",
       "      <td>0.00</td>\n",
       "      <td>2.76</td>\n",
       "      <td>3.48</td>\n",
       "      <td>4.0</td>\n",
       "      <td>4.1</td>\n",
       "    </tr>\n",
       "  </tbody>\n",
       "</table>\n",
       "</div>"
      ],
      "text/plain": [
       "            count      mean       std   min   25%   50%  75%  max\n",
       "credits                                                          \n",
       "9        250238.0  3.757831  0.443252  0.48  3.62  4.00  4.0  4.1\n",
       "12       250229.0  3.652293  0.537938  0.00  3.33  4.00  4.0  4.1\n",
       "15       249986.0  3.499521  0.614747  0.00  3.04  3.76  4.0  4.1\n",
       "18       249445.0  3.321023  0.709446  0.00  2.76  3.48  4.0  4.1"
      ]
     },
     "execution_count": 19,
     "metadata": {},
     "output_type": "execute_result"
    }
   ],
   "source": [
    "numeric.groupby(['credits'])['gpa'].describe()"
   ]
  },
  {
   "cell_type": "markdown",
   "metadata": {},
   "source": [
    "Students take 9, 12, 15, or 18 credits. Well distibuted between the 4 possibilities. Looks as if as students take more credits, their GPA suffers. Will be useful in predicting GPA."
   ]
  },
  {
   "cell_type": "code",
   "execution_count": 164,
   "metadata": {},
   "outputs": [
    {
     "data": {
      "image/png": "[encoded data removed]",
      "text/plain": [
       "<Figure size 360x216 with 1 Axes>"
      ]
     },
     "metadata": {},
     "output_type": "display_data"
    }
   ],
   "source": [
    "plt.figure(figsize=(5,3), tight_layout=True)\n",
    "ax = sns.histplot(data=all_data, x = 'student_age')\n",
    "ax.set(title='Age Histogram')\n",
    "plt.show()"
   ]
  },
  {
   "cell_type": "code",
   "execution_count": 128,
   "metadata": {},
   "outputs": [
    {
     "data": {
      "image/png": "[encoded data removed]",
      "text/plain": [
       "<Figure size 720x360 with 1 Axes>"
      ]
     },
     "metadata": {},
     "output_type": "display_data"
    }
   ],
   "source": [
    "plt.figure(figsize=(10,5), tight_layout=True)\n",
    "ax = sns.barplot(x='student_age', y='gpa', data=numeric)\n",
    "ax.set(title='Age vs GPA')\n",
    "plt.show()"
   ]
  },
  {
   "cell_type": "code",
   "execution_count": 22,
   "metadata": {},
   "outputs": [
    {
     "data": {
      "image/png": "[encoded data removed]",
      "text/plain": [
       "<Figure size 720x360 with 1 Axes>"
      ]
     },
     "metadata": {},
     "output_type": "display_data"
    }
   ],
   "source": [
    "numeric['age_bin'] = pd.cut(numeric['student_age'], bins=range(18,35,4), labels=[f'{l}-{l+4}' for l in range(18,31,4)])\n",
    "plt.figure(figsize=(10,5), tight_layout=True)\n",
    "ax = sns.barplot(x='age_bin', y='gpa', data=numeric)\n",
    "ax.set(title='Age Ranges vs GPA')\n",
    "plt.show()"
   ]
  },
  {
   "cell_type": "code",
   "execution_count": 23,
   "metadata": {},
   "outputs": [
    {
     "data": {
      "text/plain": [
       "21    179734\n",
       "20    173005\n",
       "22    158157\n",
       "19    139325\n",
       "23    107055\n",
       "18     81230\n",
       "24     52080\n",
       "17     26388\n",
       "25     21187\n",
       "26     16896\n",
       "27     13986\n",
       "28     11346\n",
       "29      8567\n",
       "30      5791\n",
       "31      3355\n",
       "32      1446\n",
       "33       350\n",
       "Name: student_age, dtype: int64"
      ]
     },
     "execution_count": 23,
     "metadata": {},
     "output_type": "execute_result"
    }
   ],
   "source": [
    "numeric['student_age'].value_counts()"
   ]
  },
  {
   "cell_type": "code",
   "execution_count": 24,
   "metadata": {},
   "outputs": [
    {
     "data": {
      "text/html": [
       "<div>\n",
       "<style scoped>\n",
       "    .dataframe tbody tr th:only-of-type {\n",
       "        vertical-align: middle;\n",
       "    }\n",
       "\n",
       "    .dataframe tbody tr th {\n",
       "        vertical-align: top;\n",
       "    }\n",
       "\n",
       "    .dataframe thead th {\n",
       "        text-align: right;\n",
       "    }\n",
       "</style>\n",
       "<table border=\"1\" class=\"dataframe\">\n",
       "  <thead>\n",
       "    <tr style=\"text-align: right;\">\n",
       "      <th></th>\n",
       "      <th>count</th>\n",
       "      <th>mean</th>\n",
       "      <th>std</th>\n",
       "      <th>min</th>\n",
       "      <th>25%</th>\n",
       "      <th>50%</th>\n",
       "      <th>75%</th>\n",
       "      <th>max</th>\n",
       "    </tr>\n",
       "    <tr>\n",
       "      <th>age_bin</th>\n",
       "      <th></th>\n",
       "      <th></th>\n",
       "      <th></th>\n",
       "      <th></th>\n",
       "      <th></th>\n",
       "      <th></th>\n",
       "      <th></th>\n",
       "      <th></th>\n",
       "    </tr>\n",
       "  </thead>\n",
       "  <tbody>\n",
       "    <tr>\n",
       "      <th>18-22</th>\n",
       "      <td>650221.0</td>\n",
       "      <td>3.560096</td>\n",
       "      <td>0.607082</td>\n",
       "      <td>0.00</td>\n",
       "      <td>3.22</td>\n",
       "      <td>3.88</td>\n",
       "      <td>4.0</td>\n",
       "      <td>4.1</td>\n",
       "    </tr>\n",
       "    <tr>\n",
       "      <th>22-26</th>\n",
       "      <td>197218.0</td>\n",
       "      <td>3.564230</td>\n",
       "      <td>0.605044</td>\n",
       "      <td>0.00</td>\n",
       "      <td>3.24</td>\n",
       "      <td>3.90</td>\n",
       "      <td>4.0</td>\n",
       "      <td>4.1</td>\n",
       "    </tr>\n",
       "    <tr>\n",
       "      <th>26-30</th>\n",
       "      <td>39690.0</td>\n",
       "      <td>3.569290</td>\n",
       "      <td>0.604823</td>\n",
       "      <td>0.25</td>\n",
       "      <td>3.25</td>\n",
       "      <td>3.93</td>\n",
       "      <td>4.0</td>\n",
       "      <td>4.1</td>\n",
       "    </tr>\n",
       "    <tr>\n",
       "      <th>30-34</th>\n",
       "      <td>5151.0</td>\n",
       "      <td>3.565989</td>\n",
       "      <td>0.600862</td>\n",
       "      <td>0.58</td>\n",
       "      <td>3.25</td>\n",
       "      <td>3.92</td>\n",
       "      <td>4.0</td>\n",
       "      <td>4.1</td>\n",
       "    </tr>\n",
       "  </tbody>\n",
       "</table>\n",
       "</div>"
      ],
      "text/plain": [
       "            count      mean       std   min   25%   50%  75%  max\n",
       "age_bin                                                          \n",
       "18-22    650221.0  3.560096  0.607082  0.00  3.22  3.88  4.0  4.1\n",
       "22-26    197218.0  3.564230  0.605044  0.00  3.24  3.90  4.0  4.1\n",
       "26-30     39690.0  3.569290  0.604823  0.25  3.25  3.93  4.0  4.1\n",
       "30-34      5151.0  3.565989  0.600862  0.58  3.25  3.92  4.0  4.1"
      ]
     },
     "execution_count": 24,
     "metadata": {},
     "output_type": "execute_result"
    }
   ],
   "source": [
    "numeric.groupby(['age_bin'])['gpa'].describe()"
   ]
  },
  {
   "cell_type": "markdown",
   "metadata": {},
   "source": [
    "Ages consist of mostly students within the standard ages of college students (18-23) with some students younger at 17 and others older up to 32. Age does not appear to impact GPA. Graph 'Age VS GPA' shows little change due to age of average GPA. Graph 'Age Ranges VS GPA' visualizes standard college ages against other 5 year ranges, still little impact. Age is unlikely to be a good predictor of GPA."
   ]
  },
  {
   "cell_type": "code",
   "execution_count": 163,
   "metadata": {},
   "outputs": [
    {
     "data": {
      "image/png": "[encoded data removed]",
      "text/plain": [
       "<Figure size 360x216 with 1 Axes>"
      ]
     },
     "metadata": {},
     "output_type": "display_data"
    }
   ],
   "source": [
    "plt.figure(figsize=(5,3), tight_layout=True)\n",
    "ax = sns.histplot(data=numeric, x = 'avg_hours_studied')\n",
    "ax.set(title='Average Hours Studied Histogram')\n",
    "plt.show()"
   ]
  },
  {
   "cell_type": "code",
   "execution_count": 26,
   "metadata": {},
   "outputs": [
    {
     "data": {
      "image/png": "[encoded data removed]",
      "text/plain": [
       "<Figure size 720x360 with 1 Axes>"
      ]
     },
     "metadata": {},
     "output_type": "display_data"
    }
   ],
   "source": [
    "plt.figure(figsize=(10,5), tight_layout=True)\n",
    "ax = sns.barplot(x='avg_hours_studied', y='gpa', data=numeric)\n",
    "ax.set(title='Hours Studied vs GPA')\n",
    "plt.show()"
   ]
  },
  {
   "cell_type": "markdown",
   "metadata": {},
   "source": [
    "Average Hours Studied is well distributed with most students studying four hours a week. There is an obvious correlation between average hours studied per week and a student's GPA. This will be the most useful data for predicting GPA."
   ]
  },
  {
   "cell_type": "markdown",
   "metadata": {},
   "source": [
    "## Categorical Data Exploration"
   ]
  },
  {
   "cell_type": "code",
   "execution_count": 27,
   "metadata": {},
   "outputs": [
    {
     "data": {
      "text/html": [
       "<div>\n",
       "<style scoped>\n",
       "    .dataframe tbody tr th:only-of-type {\n",
       "        vertical-align: middle;\n",
       "    }\n",
       "\n",
       "    .dataframe tbody tr th {\n",
       "        vertical-align: top;\n",
       "    }\n",
       "\n",
       "    .dataframe thead th {\n",
       "        text-align: right;\n",
       "    }\n",
       "</style>\n",
       "<table border=\"1\" class=\"dataframe\">\n",
       "  <thead>\n",
       "    <tr style=\"text-align: right;\">\n",
       "      <th></th>\n",
       "      <th>major</th>\n",
       "      <th>tutoring</th>\n",
       "      <th>semester</th>\n",
       "      <th>student_year</th>\n",
       "    </tr>\n",
       "  </thead>\n",
       "  <tbody>\n",
       "    <tr>\n",
       "      <th>0</th>\n",
       "      <td>Math</td>\n",
       "      <td>No</td>\n",
       "      <td>Fall</td>\n",
       "      <td>Freshman</td>\n",
       "    </tr>\n",
       "    <tr>\n",
       "      <th>1</th>\n",
       "      <td>Math</td>\n",
       "      <td>No</td>\n",
       "      <td>Spring</td>\n",
       "      <td>Freshman</td>\n",
       "    </tr>\n",
       "    <tr>\n",
       "      <th>2</th>\n",
       "      <td>Math</td>\n",
       "      <td>No</td>\n",
       "      <td>Fall</td>\n",
       "      <td>Sophmore</td>\n",
       "    </tr>\n",
       "    <tr>\n",
       "      <th>3</th>\n",
       "      <td>Math</td>\n",
       "      <td>No</td>\n",
       "      <td>Spring</td>\n",
       "      <td>Sophmore</td>\n",
       "    </tr>\n",
       "    <tr>\n",
       "      <th>4</th>\n",
       "      <td>Math</td>\n",
       "      <td>No</td>\n",
       "      <td>Fall</td>\n",
       "      <td>Junior</td>\n",
       "    </tr>\n",
       "  </tbody>\n",
       "</table>\n",
       "</div>"
      ],
      "text/plain": [
       "  major tutoring semester student_year\n",
       "0  Math       No     Fall     Freshman\n",
       "1  Math       No   Spring     Freshman\n",
       "2  Math       No     Fall     Sophmore\n",
       "3  Math       No   Spring     Sophmore\n",
       "4  Math       No     Fall       Junior"
      ]
     },
     "execution_count": 27,
     "metadata": {},
     "output_type": "execute_result"
    }
   ],
   "source": [
    "categorical = all_data.select_dtypes(include=[object])\n",
    "categorical.head()"
   ]
  },
  {
   "cell_type": "code",
   "execution_count": 28,
   "metadata": {},
   "outputs": [
    {
     "data": {
      "text/html": [
       "<div>\n",
       "<style scoped>\n",
       "    .dataframe tbody tr th:only-of-type {\n",
       "        vertical-align: middle;\n",
       "    }\n",
       "\n",
       "    .dataframe tbody tr th {\n",
       "        vertical-align: top;\n",
       "    }\n",
       "\n",
       "    .dataframe thead th {\n",
       "        text-align: right;\n",
       "    }\n",
       "</style>\n",
       "<table border=\"1\" class=\"dataframe\">\n",
       "  <thead>\n",
       "    <tr style=\"text-align: right;\">\n",
       "      <th></th>\n",
       "      <th>count</th>\n",
       "      <th>unique</th>\n",
       "      <th>top</th>\n",
       "      <th>freq</th>\n",
       "    </tr>\n",
       "  </thead>\n",
       "  <tbody>\n",
       "    <tr>\n",
       "      <th>major</th>\n",
       "      <td>1000000</td>\n",
       "      <td>5</td>\n",
       "      <td>Physics</td>\n",
       "      <td>200833</td>\n",
       "    </tr>\n",
       "    <tr>\n",
       "      <th>tutoring</th>\n",
       "      <td>950502</td>\n",
       "      <td>2</td>\n",
       "      <td>No</td>\n",
       "      <td>923106</td>\n",
       "    </tr>\n",
       "    <tr>\n",
       "      <th>semester</th>\n",
       "      <td>1000000</td>\n",
       "      <td>2</td>\n",
       "      <td>Fall</td>\n",
       "      <td>500000</td>\n",
       "    </tr>\n",
       "    <tr>\n",
       "      <th>student_year</th>\n",
       "      <td>1000000</td>\n",
       "      <td>4</td>\n",
       "      <td>Senior</td>\n",
       "      <td>400000</td>\n",
       "    </tr>\n",
       "  </tbody>\n",
       "</table>\n",
       "</div>"
      ],
      "text/plain": [
       "                count unique      top    freq\n",
       "major         1000000      5  Physics  200833\n",
       "tutoring       950502      2       No  923106\n",
       "semester      1000000      2     Fall  500000\n",
       "student_year  1000000      4   Senior  400000"
      ]
     },
     "execution_count": 28,
     "metadata": {},
     "output_type": "execute_result"
    }
   ],
   "source": [
    "categorical.describe().T"
   ]
  },
  {
   "cell_type": "markdown",
   "metadata": {},
   "source": [
    "* Five majors are represented by data, with the most popular being physics\n",
    "\n",
    "* Very few students recieved tutoring\n",
    "\n",
    "* There are exactly the same number of Fall and Spring semesters in the data"
   ]
  },
  {
   "cell_type": "code",
   "execution_count": 29,
   "metadata": {},
   "outputs": [],
   "source": [
    "categorical['gpa'] = all_data.gpa"
   ]
  },
  {
   "cell_type": "markdown",
   "metadata": {},
   "source": [
    "### Categorical Variable Histograms"
   ]
  },
  {
   "cell_type": "code",
   "execution_count": 30,
   "metadata": {},
   "outputs": [
    {
     "data": {
      "text/plain": [
       "Physics        200833\n",
       "Engineering    200787\n",
       "CS             200505\n",
       "Math           199750\n",
       "English        198125\n",
       "Name: major, dtype: int64"
      ]
     },
     "execution_count": 30,
     "metadata": {},
     "output_type": "execute_result"
    }
   ],
   "source": [
    "categorical['major'].value_counts()"
   ]
  },
  {
   "cell_type": "code",
   "execution_count": 162,
   "metadata": {},
   "outputs": [
    {
     "data": {
      "image/png": "[encoded data removed]",
      "text/plain": [
       "<Figure size 360x216 with 1 Axes>"
      ]
     },
     "metadata": {},
     "output_type": "display_data"
    }
   ],
   "source": [
    "plt.figure(figsize=(5,3), tight_layout=True)\n",
    "ax = sns.histplot(data=categorical, x = 'major')\n",
    "ax.set(title='Major Histogram')\n",
    "plt.show()"
   ]
  },
  {
   "cell_type": "code",
   "execution_count": 32,
   "metadata": {},
   "outputs": [
    {
     "data": {
      "image/png": "[encoded data removed]",
      "text/plain": [
       "<Figure size 720x360 with 1 Axes>"
      ]
     },
     "metadata": {},
     "output_type": "display_data"
    }
   ],
   "source": [
    "plt.figure(figsize=(10,5), tight_layout=True)\n",
    "ax = sns.barplot(x='major', y='gpa', data=categorical)\n",
    "ax.set(title='Major vs GPA')\n",
    "plt.show()"
   ]
  },
  {
   "cell_type": "code",
   "execution_count": 33,
   "metadata": {},
   "outputs": [
    {
     "data": {
      "text/html": [
       "<div>\n",
       "<style scoped>\n",
       "    .dataframe tbody tr th:only-of-type {\n",
       "        vertical-align: middle;\n",
       "    }\n",
       "\n",
       "    .dataframe tbody tr th {\n",
       "        vertical-align: top;\n",
       "    }\n",
       "\n",
       "    .dataframe thead tr th {\n",
       "        text-align: left;\n",
       "    }\n",
       "\n",
       "    .dataframe thead tr:last-of-type th {\n",
       "        text-align: right;\n",
       "    }\n",
       "</style>\n",
       "<table border=\"1\" class=\"dataframe\">\n",
       "  <thead>\n",
       "    <tr>\n",
       "      <th></th>\n",
       "      <th colspan=\"8\" halign=\"left\">gpa</th>\n",
       "    </tr>\n",
       "    <tr>\n",
       "      <th></th>\n",
       "      <th>count</th>\n",
       "      <th>mean</th>\n",
       "      <th>std</th>\n",
       "      <th>min</th>\n",
       "      <th>25%</th>\n",
       "      <th>50%</th>\n",
       "      <th>75%</th>\n",
       "      <th>max</th>\n",
       "    </tr>\n",
       "    <tr>\n",
       "      <th>major</th>\n",
       "      <th></th>\n",
       "      <th></th>\n",
       "      <th></th>\n",
       "      <th></th>\n",
       "      <th></th>\n",
       "      <th></th>\n",
       "      <th></th>\n",
       "      <th></th>\n",
       "    </tr>\n",
       "  </thead>\n",
       "  <tbody>\n",
       "    <tr>\n",
       "      <th>CS</th>\n",
       "      <td>200505.0</td>\n",
       "      <td>3.535839</td>\n",
       "      <td>0.607557</td>\n",
       "      <td>0.00</td>\n",
       "      <td>3.18</td>\n",
       "      <td>3.84</td>\n",
       "      <td>4.0</td>\n",
       "      <td>4.0</td>\n",
       "    </tr>\n",
       "    <tr>\n",
       "      <th>Engineering</th>\n",
       "      <td>200787.0</td>\n",
       "      <td>3.544374</td>\n",
       "      <td>0.604892</td>\n",
       "      <td>0.26</td>\n",
       "      <td>3.21</td>\n",
       "      <td>3.87</td>\n",
       "      <td>4.0</td>\n",
       "      <td>4.0</td>\n",
       "    </tr>\n",
       "    <tr>\n",
       "      <th>English</th>\n",
       "      <td>198125.0</td>\n",
       "      <td>3.632158</td>\n",
       "      <td>0.604164</td>\n",
       "      <td>0.00</td>\n",
       "      <td>3.29</td>\n",
       "      <td>3.94</td>\n",
       "      <td>4.1</td>\n",
       "      <td>4.1</td>\n",
       "    </tr>\n",
       "    <tr>\n",
       "      <th>Math</th>\n",
       "      <td>199750.0</td>\n",
       "      <td>3.543705</td>\n",
       "      <td>0.605236</td>\n",
       "      <td>0.00</td>\n",
       "      <td>3.20</td>\n",
       "      <td>3.87</td>\n",
       "      <td>4.0</td>\n",
       "      <td>4.0</td>\n",
       "    </tr>\n",
       "    <tr>\n",
       "      <th>Physics</th>\n",
       "      <td>200833.0</td>\n",
       "      <td>3.534123</td>\n",
       "      <td>0.608551</td>\n",
       "      <td>0.00</td>\n",
       "      <td>3.17</td>\n",
       "      <td>3.84</td>\n",
       "      <td>4.0</td>\n",
       "      <td>4.0</td>\n",
       "    </tr>\n",
       "  </tbody>\n",
       "</table>\n",
       "</div>"
      ],
      "text/plain": [
       "                  gpa                                                \n",
       "                count      mean       std   min   25%   50%  75%  max\n",
       "major                                                                \n",
       "CS           200505.0  3.535839  0.607557  0.00  3.18  3.84  4.0  4.0\n",
       "Engineering  200787.0  3.544374  0.604892  0.26  3.21  3.87  4.0  4.0\n",
       "English      198125.0  3.632158  0.604164  0.00  3.29  3.94  4.1  4.1\n",
       "Math         199750.0  3.543705  0.605236  0.00  3.20  3.87  4.0  4.0\n",
       "Physics      200833.0  3.534123  0.608551  0.00  3.17  3.84  4.0  4.0"
      ]
     },
     "execution_count": 33,
     "metadata": {},
     "output_type": "execute_result"
    }
   ],
   "source": [
    "categorical.groupby(['major']).describe()"
   ]
  },
  {
   "cell_type": "code",
   "execution_count": 34,
   "metadata": {},
   "outputs": [
    {
     "data": {
      "text/plain": [
       "4.10    83957\n",
       "4.00     7974\n",
       "3.63     1003\n",
       "3.69      993\n",
       "3.75      992\n",
       "        ...  \n",
       "1.70        1\n",
       "1.04        1\n",
       "0.56        1\n",
       "0.58        1\n",
       "0.98        1\n",
       "Name: gpa, Length: 384, dtype: int64"
      ]
     },
     "execution_count": 34,
     "metadata": {},
     "output_type": "execute_result"
    }
   ],
   "source": [
    "categorical[categorical['major'] == 'English']['gpa'].value_counts()"
   ]
  },
  {
   "cell_type": "markdown",
   "metadata": {},
   "source": [
    "English has a slightly higher average GPA than the other majors, which are all similar in average GPA. Only English Mmajors recieved over a 4.0 GPA, will handle this by setting any GPAs > 4.0 to 4.0. This will also likely make the English majors' average GPA in line with the others."
   ]
  },
  {
   "cell_type": "code",
   "execution_count": 35,
   "metadata": {},
   "outputs": [],
   "source": [
    "categorical.loc[categorical['gpa'] > 4.0, 'gpa'] = 4.00"
   ]
  },
  {
   "cell_type": "code",
   "execution_count": 36,
   "metadata": {},
   "outputs": [
    {
     "data": {
      "text/html": [
       "<div>\n",
       "<style scoped>\n",
       "    .dataframe tbody tr th:only-of-type {\n",
       "        vertical-align: middle;\n",
       "    }\n",
       "\n",
       "    .dataframe tbody tr th {\n",
       "        vertical-align: top;\n",
       "    }\n",
       "\n",
       "    .dataframe thead tr th {\n",
       "        text-align: left;\n",
       "    }\n",
       "\n",
       "    .dataframe thead tr:last-of-type th {\n",
       "        text-align: right;\n",
       "    }\n",
       "</style>\n",
       "<table border=\"1\" class=\"dataframe\">\n",
       "  <thead>\n",
       "    <tr>\n",
       "      <th></th>\n",
       "      <th colspan=\"8\" halign=\"left\">gpa</th>\n",
       "    </tr>\n",
       "    <tr>\n",
       "      <th></th>\n",
       "      <th>count</th>\n",
       "      <th>mean</th>\n",
       "      <th>std</th>\n",
       "      <th>min</th>\n",
       "      <th>25%</th>\n",
       "      <th>50%</th>\n",
       "      <th>75%</th>\n",
       "      <th>max</th>\n",
       "    </tr>\n",
       "    <tr>\n",
       "      <th>major</th>\n",
       "      <th></th>\n",
       "      <th></th>\n",
       "      <th></th>\n",
       "      <th></th>\n",
       "      <th></th>\n",
       "      <th></th>\n",
       "      <th></th>\n",
       "      <th></th>\n",
       "    </tr>\n",
       "  </thead>\n",
       "  <tbody>\n",
       "    <tr>\n",
       "      <th>CS</th>\n",
       "      <td>200505.0</td>\n",
       "      <td>3.535839</td>\n",
       "      <td>0.607557</td>\n",
       "      <td>0.00</td>\n",
       "      <td>3.18</td>\n",
       "      <td>3.84</td>\n",
       "      <td>4.0</td>\n",
       "      <td>4.0</td>\n",
       "    </tr>\n",
       "    <tr>\n",
       "      <th>Engineering</th>\n",
       "      <td>200787.0</td>\n",
       "      <td>3.544374</td>\n",
       "      <td>0.604892</td>\n",
       "      <td>0.26</td>\n",
       "      <td>3.21</td>\n",
       "      <td>3.87</td>\n",
       "      <td>4.0</td>\n",
       "      <td>4.0</td>\n",
       "    </tr>\n",
       "    <tr>\n",
       "      <th>English</th>\n",
       "      <td>198125.0</td>\n",
       "      <td>3.588636</td>\n",
       "      <td>0.571656</td>\n",
       "      <td>0.00</td>\n",
       "      <td>3.29</td>\n",
       "      <td>3.94</td>\n",
       "      <td>4.0</td>\n",
       "      <td>4.0</td>\n",
       "    </tr>\n",
       "    <tr>\n",
       "      <th>Math</th>\n",
       "      <td>199750.0</td>\n",
       "      <td>3.543705</td>\n",
       "      <td>0.605236</td>\n",
       "      <td>0.00</td>\n",
       "      <td>3.20</td>\n",
       "      <td>3.87</td>\n",
       "      <td>4.0</td>\n",
       "      <td>4.0</td>\n",
       "    </tr>\n",
       "    <tr>\n",
       "      <th>Physics</th>\n",
       "      <td>200833.0</td>\n",
       "      <td>3.534123</td>\n",
       "      <td>0.608551</td>\n",
       "      <td>0.00</td>\n",
       "      <td>3.17</td>\n",
       "      <td>3.84</td>\n",
       "      <td>4.0</td>\n",
       "      <td>4.0</td>\n",
       "    </tr>\n",
       "  </tbody>\n",
       "</table>\n",
       "</div>"
      ],
      "text/plain": [
       "                  gpa                                                \n",
       "                count      mean       std   min   25%   50%  75%  max\n",
       "major                                                                \n",
       "CS           200505.0  3.535839  0.607557  0.00  3.18  3.84  4.0  4.0\n",
       "Engineering  200787.0  3.544374  0.604892  0.26  3.21  3.87  4.0  4.0\n",
       "English      198125.0  3.588636  0.571656  0.00  3.29  3.94  4.0  4.0\n",
       "Math         199750.0  3.543705  0.605236  0.00  3.20  3.87  4.0  4.0\n",
       "Physics      200833.0  3.534123  0.608551  0.00  3.17  3.84  4.0  4.0"
      ]
     },
     "execution_count": 36,
     "metadata": {},
     "output_type": "execute_result"
    }
   ],
   "source": [
    "categorical.groupby(['major']).describe()"
   ]
  },
  {
   "cell_type": "markdown",
   "metadata": {},
   "source": [
    "English still has a higher GPA than other majors, may indicate slightly grade inflation in the English major."
   ]
  },
  {
   "cell_type": "code",
   "execution_count": 161,
   "metadata": {},
   "outputs": [
    {
     "data": {
      "image/png": "[encoded data removed]",
      "text/plain": [
       "<Figure size 360x216 with 1 Axes>"
      ]
     },
     "metadata": {},
     "output_type": "display_data"
    }
   ],
   "source": [
    "plt.figure(figsize=(5,3), tight_layout=True)\n",
    "ax = sns.histplot(data=categorical, x = 'semester')\n",
    "ax.set(title='Semester Histogram')\n",
    "plt.show()"
   ]
  },
  {
   "cell_type": "code",
   "execution_count": 38,
   "metadata": {},
   "outputs": [
    {
     "data": {
      "image/png": "[encoded data removed]",
      "text/plain": [
       "<Figure size 720x360 with 1 Axes>"
      ]
     },
     "metadata": {},
     "output_type": "display_data"
    }
   ],
   "source": [
    "plt.figure(figsize=(10,5), tight_layout=True)\n",
    "ax = sns.barplot(x='semester', y='gpa', data=categorical)\n",
    "ax.set(title='Semester vs GPA')\n",
    "plt.show()"
   ]
  },
  {
   "cell_type": "code",
   "execution_count": 39,
   "metadata": {},
   "outputs": [
    {
     "data": {
      "text/html": [
       "<div>\n",
       "<style scoped>\n",
       "    .dataframe tbody tr th:only-of-type {\n",
       "        vertical-align: middle;\n",
       "    }\n",
       "\n",
       "    .dataframe tbody tr th {\n",
       "        vertical-align: top;\n",
       "    }\n",
       "\n",
       "    .dataframe thead tr th {\n",
       "        text-align: left;\n",
       "    }\n",
       "\n",
       "    .dataframe thead tr:last-of-type th {\n",
       "        text-align: right;\n",
       "    }\n",
       "</style>\n",
       "<table border=\"1\" class=\"dataframe\">\n",
       "  <thead>\n",
       "    <tr>\n",
       "      <th></th>\n",
       "      <th colspan=\"8\" halign=\"left\">gpa</th>\n",
       "    </tr>\n",
       "    <tr>\n",
       "      <th></th>\n",
       "      <th>count</th>\n",
       "      <th>mean</th>\n",
       "      <th>std</th>\n",
       "      <th>min</th>\n",
       "      <th>25%</th>\n",
       "      <th>50%</th>\n",
       "      <th>75%</th>\n",
       "      <th>max</th>\n",
       "    </tr>\n",
       "    <tr>\n",
       "      <th>semester</th>\n",
       "      <th></th>\n",
       "      <th></th>\n",
       "      <th></th>\n",
       "      <th></th>\n",
       "      <th></th>\n",
       "      <th></th>\n",
       "      <th></th>\n",
       "      <th></th>\n",
       "    </tr>\n",
       "  </thead>\n",
       "  <tbody>\n",
       "    <tr>\n",
       "      <th>Fall</th>\n",
       "      <td>500000.0</td>\n",
       "      <td>3.542868</td>\n",
       "      <td>0.602508</td>\n",
       "      <td>0.0</td>\n",
       "      <td>3.17</td>\n",
       "      <td>3.84</td>\n",
       "      <td>4.0</td>\n",
       "      <td>4.0</td>\n",
       "    </tr>\n",
       "    <tr>\n",
       "      <th>Spring</th>\n",
       "      <td>500000.0</td>\n",
       "      <td>3.555612</td>\n",
       "      <td>0.597696</td>\n",
       "      <td>0.0</td>\n",
       "      <td>3.25</td>\n",
       "      <td>3.91</td>\n",
       "      <td>4.0</td>\n",
       "      <td>4.0</td>\n",
       "    </tr>\n",
       "  </tbody>\n",
       "</table>\n",
       "</div>"
      ],
      "text/plain": [
       "               gpa                                               \n",
       "             count      mean       std  min   25%   50%  75%  max\n",
       "semester                                                         \n",
       "Fall      500000.0  3.542868  0.602508  0.0  3.17  3.84  4.0  4.0\n",
       "Spring    500000.0  3.555612  0.597696  0.0  3.25  3.91  4.0  4.0"
      ]
     },
     "execution_count": 39,
     "metadata": {},
     "output_type": "execute_result"
    }
   ],
   "source": [
    "categorical.groupby(['semester']).describe()"
   ]
  },
  {
   "cell_type": "markdown",
   "metadata": {},
   "source": [
    "What semester it is has little impact on GPA. This variable will not be used to predict GPA."
   ]
  },
  {
   "cell_type": "code",
   "execution_count": 160,
   "metadata": {},
   "outputs": [
    {
     "data": {
      "image/png": "[encoded data removed]",
      "text/plain": [
       "<Figure size 360x216 with 1 Axes>"
      ]
     },
     "metadata": {},
     "output_type": "display_data"
    }
   ],
   "source": [
    "plt.figure(figsize=(5,3), tight_layout=True)\n",
    "ax = sns.histplot(data=categorical, x = 'tutoring')\n",
    "ax.set(title='Tutoring Histogram')\n",
    "plt.show()"
   ]
  },
  {
   "cell_type": "code",
   "execution_count": 41,
   "metadata": {},
   "outputs": [
    {
     "data": {
      "image/png": "[encoded data removed]",
      "text/plain": [
       "<Figure size 720x360 with 1 Axes>"
      ]
     },
     "metadata": {},
     "output_type": "display_data"
    }
   ],
   "source": [
    "plt.figure(figsize=(10,5), tight_layout=True)\n",
    "ax = sns.barplot(x='tutoring', y='gpa', data=categorical)\n",
    "ax.set(title='Tutoring vs GPA')\n",
    "plt.show()"
   ]
  },
  {
   "cell_type": "code",
   "execution_count": 42,
   "metadata": {},
   "outputs": [
    {
     "data": {
      "text/html": [
       "<div>\n",
       "<style scoped>\n",
       "    .dataframe tbody tr th:only-of-type {\n",
       "        vertical-align: middle;\n",
       "    }\n",
       "\n",
       "    .dataframe tbody tr th {\n",
       "        vertical-align: top;\n",
       "    }\n",
       "\n",
       "    .dataframe thead tr th {\n",
       "        text-align: left;\n",
       "    }\n",
       "\n",
       "    .dataframe thead tr:last-of-type th {\n",
       "        text-align: right;\n",
       "    }\n",
       "</style>\n",
       "<table border=\"1\" class=\"dataframe\">\n",
       "  <thead>\n",
       "    <tr>\n",
       "      <th></th>\n",
       "      <th colspan=\"8\" halign=\"left\">gpa</th>\n",
       "    </tr>\n",
       "    <tr>\n",
       "      <th></th>\n",
       "      <th>count</th>\n",
       "      <th>mean</th>\n",
       "      <th>std</th>\n",
       "      <th>min</th>\n",
       "      <th>25%</th>\n",
       "      <th>50%</th>\n",
       "      <th>75%</th>\n",
       "      <th>max</th>\n",
       "    </tr>\n",
       "    <tr>\n",
       "      <th>tutoring</th>\n",
       "      <th></th>\n",
       "      <th></th>\n",
       "      <th></th>\n",
       "      <th></th>\n",
       "      <th></th>\n",
       "      <th></th>\n",
       "      <th></th>\n",
       "      <th></th>\n",
       "    </tr>\n",
       "  </thead>\n",
       "  <tbody>\n",
       "    <tr>\n",
       "      <th>No</th>\n",
       "      <td>923106.0</td>\n",
       "      <td>3.555414</td>\n",
       "      <td>0.59868</td>\n",
       "      <td>0.00</td>\n",
       "      <td>3.23</td>\n",
       "      <td>3.89</td>\n",
       "      <td>4.0</td>\n",
       "      <td>4.0</td>\n",
       "    </tr>\n",
       "    <tr>\n",
       "      <th>Yes</th>\n",
       "      <td>27396.0</td>\n",
       "      <td>3.359500</td>\n",
       "      <td>0.60056</td>\n",
       "      <td>0.19</td>\n",
       "      <td>2.97</td>\n",
       "      <td>3.43</td>\n",
       "      <td>4.0</td>\n",
       "      <td>4.0</td>\n",
       "    </tr>\n",
       "  </tbody>\n",
       "</table>\n",
       "</div>"
      ],
      "text/plain": [
       "               gpa                                               \n",
       "             count      mean      std   min   25%   50%  75%  max\n",
       "tutoring                                                         \n",
       "No        923106.0  3.555414  0.59868  0.00  3.23  3.89  4.0  4.0\n",
       "Yes        27396.0  3.359500  0.60056  0.19  2.97  3.43  4.0  4.0"
      ]
     },
     "execution_count": 42,
     "metadata": {},
     "output_type": "execute_result"
    }
   ],
   "source": [
    "categorical.groupby(['tutoring']).describe()"
   ]
  },
  {
   "cell_type": "markdown",
   "metadata": {},
   "source": [
    "Students that did not recieve tutoring had significantly higher average GPAs than those who did. This is counter to what would be expected. However, so few students recieved tutoring that it may be unwise to use this variable as a predictor for GPA."
   ]
  },
  {
   "cell_type": "code",
   "execution_count": 159,
   "metadata": {},
   "outputs": [
    {
     "data": {
      "image/png": "[encoded data removed]",
      "text/plain": [
       "<Figure size 360x216 with 1 Axes>"
      ]
     },
     "metadata": {},
     "output_type": "display_data"
    }
   ],
   "source": [
    "plt.figure(figsize=(5,3), tight_layout=True)\n",
    "ax = sns.histplot(data=categorical, x = 'student_year')\n",
    "ax.set(title='Student Year Histogram')\n",
    "plt.show()"
   ]
  },
  {
   "cell_type": "code",
   "execution_count": 44,
   "metadata": {},
   "outputs": [
    {
     "data": {
      "image/png": "[encoded data removed]",
      "text/plain": [
       "<Figure size 720x576 with 1 Axes>"
      ]
     },
     "metadata": {},
     "output_type": "display_data"
    }
   ],
   "source": [
    "plt.figure(figsize=(10,8), tight_layout=True)\n",
    "ax = sns.barplot(x='student_year', y='gpa', data=categorical)\n",
    "ax.set(title='Student Year vs GPA')\n",
    "plt.show()"
   ]
  },
  {
   "cell_type": "code",
   "execution_count": 45,
   "metadata": {},
   "outputs": [
    {
     "data": {
      "text/html": [
       "<div>\n",
       "<style scoped>\n",
       "    .dataframe tbody tr th:only-of-type {\n",
       "        vertical-align: middle;\n",
       "    }\n",
       "\n",
       "    .dataframe tbody tr th {\n",
       "        vertical-align: top;\n",
       "    }\n",
       "\n",
       "    .dataframe thead tr th {\n",
       "        text-align: left;\n",
       "    }\n",
       "\n",
       "    .dataframe thead tr:last-of-type th {\n",
       "        text-align: right;\n",
       "    }\n",
       "</style>\n",
       "<table border=\"1\" class=\"dataframe\">\n",
       "  <thead>\n",
       "    <tr>\n",
       "      <th></th>\n",
       "      <th colspan=\"8\" halign=\"left\">gpa</th>\n",
       "    </tr>\n",
       "    <tr>\n",
       "      <th></th>\n",
       "      <th>count</th>\n",
       "      <th>mean</th>\n",
       "      <th>std</th>\n",
       "      <th>min</th>\n",
       "      <th>25%</th>\n",
       "      <th>50%</th>\n",
       "      <th>75%</th>\n",
       "      <th>max</th>\n",
       "    </tr>\n",
       "    <tr>\n",
       "      <th>student_year</th>\n",
       "      <th></th>\n",
       "      <th></th>\n",
       "      <th></th>\n",
       "      <th></th>\n",
       "      <th></th>\n",
       "      <th></th>\n",
       "      <th></th>\n",
       "      <th></th>\n",
       "    </tr>\n",
       "  </thead>\n",
       "  <tbody>\n",
       "    <tr>\n",
       "      <th>Freshman</th>\n",
       "      <td>200000.0</td>\n",
       "      <td>3.525209</td>\n",
       "      <td>0.607896</td>\n",
       "      <td>0.0</td>\n",
       "      <td>3.09</td>\n",
       "      <td>3.80</td>\n",
       "      <td>4.0</td>\n",
       "      <td>4.0</td>\n",
       "    </tr>\n",
       "    <tr>\n",
       "      <th>Junior</th>\n",
       "      <td>200000.0</td>\n",
       "      <td>3.556788</td>\n",
       "      <td>0.597027</td>\n",
       "      <td>0.0</td>\n",
       "      <td>3.25</td>\n",
       "      <td>3.91</td>\n",
       "      <td>4.0</td>\n",
       "      <td>4.0</td>\n",
       "    </tr>\n",
       "    <tr>\n",
       "      <th>Senior</th>\n",
       "      <td>400000.0</td>\n",
       "      <td>3.554948</td>\n",
       "      <td>0.598560</td>\n",
       "      <td>0.0</td>\n",
       "      <td>3.25</td>\n",
       "      <td>3.91</td>\n",
       "      <td>4.0</td>\n",
       "      <td>4.0</td>\n",
       "    </tr>\n",
       "    <tr>\n",
       "      <th>Sophmore</th>\n",
       "      <td>200000.0</td>\n",
       "      <td>3.554307</td>\n",
       "      <td>0.597992</td>\n",
       "      <td>0.0</td>\n",
       "      <td>3.24</td>\n",
       "      <td>3.91</td>\n",
       "      <td>4.0</td>\n",
       "      <td>4.0</td>\n",
       "    </tr>\n",
       "  </tbody>\n",
       "</table>\n",
       "</div>"
      ],
      "text/plain": [
       "                   gpa                                               \n",
       "                 count      mean       std  min   25%   50%  75%  max\n",
       "student_year                                                         \n",
       "Freshman      200000.0  3.525209  0.607896  0.0  3.09  3.80  4.0  4.0\n",
       "Junior        200000.0  3.556788  0.597027  0.0  3.25  3.91  4.0  4.0\n",
       "Senior        400000.0  3.554948  0.598560  0.0  3.25  3.91  4.0  4.0\n",
       "Sophmore      200000.0  3.554307  0.597992  0.0  3.24  3.91  4.0  4.0"
      ]
     },
     "execution_count": 45,
     "metadata": {},
     "output_type": "execute_result"
    }
   ],
   "source": [
    "categorical.groupby(['student_year']).describe()"
   ]
  },
  {
   "cell_type": "markdown",
   "metadata": {},
   "source": [
    "Freshmen have a slightly lower average GPA than older students. However, there is not a significant correlation to GPA. Unlikely to be used as a predictor."
   ]
  },
  {
   "cell_type": "markdown",
   "metadata": {},
   "source": [
    "## Data Exploration Questions"
   ]
  },
  {
   "cell_type": "markdown",
   "metadata": {},
   "source": [
    "#### Does this school have transfer students?"
   ]
  },
  {
   "cell_type": "code",
   "execution_count": 46,
   "metadata": {},
   "outputs": [
    {
     "data": {
      "text/html": [
       "<div>\n",
       "<style scoped>\n",
       "    .dataframe tbody tr th:only-of-type {\n",
       "        vertical-align: middle;\n",
       "    }\n",
       "\n",
       "    .dataframe tbody tr th {\n",
       "        vertical-align: top;\n",
       "    }\n",
       "\n",
       "    .dataframe thead th {\n",
       "        text-align: right;\n",
       "    }\n",
       "</style>\n",
       "<table border=\"1\" class=\"dataframe\">\n",
       "  <thead>\n",
       "    <tr style=\"text-align: right;\">\n",
       "      <th></th>\n",
       "      <th>id</th>\n",
       "      <th>student_year</th>\n",
       "    </tr>\n",
       "  </thead>\n",
       "  <tbody>\n",
       "    <tr>\n",
       "      <th>0</th>\n",
       "      <td>13251</td>\n",
       "      <td>Freshman, Freshman, Sophmore, Sophmore, Junior...</td>\n",
       "    </tr>\n",
       "    <tr>\n",
       "      <th>1</th>\n",
       "      <td>13252</td>\n",
       "      <td>Freshman, Freshman, Sophmore, Sophmore, Junior...</td>\n",
       "    </tr>\n",
       "    <tr>\n",
       "      <th>2</th>\n",
       "      <td>13253</td>\n",
       "      <td>Freshman, Freshman, Sophmore, Sophmore, Junior...</td>\n",
       "    </tr>\n",
       "    <tr>\n",
       "      <th>3</th>\n",
       "      <td>13254</td>\n",
       "      <td>Freshman, Freshman, Sophmore, Sophmore, Junior...</td>\n",
       "    </tr>\n",
       "    <tr>\n",
       "      <th>4</th>\n",
       "      <td>13255</td>\n",
       "      <td>Freshman, Freshman, Sophmore, Sophmore, Junior...</td>\n",
       "    </tr>\n",
       "  </tbody>\n",
       "</table>\n",
       "</div>"
      ],
      "text/plain": [
       "      id                                       student_year\n",
       "0  13251  Freshman, Freshman, Sophmore, Sophmore, Junior...\n",
       "1  13252  Freshman, Freshman, Sophmore, Sophmore, Junior...\n",
       "2  13253  Freshman, Freshman, Sophmore, Sophmore, Junior...\n",
       "3  13254  Freshman, Freshman, Sophmore, Sophmore, Junior...\n",
       "4  13255  Freshman, Freshman, Sophmore, Sophmore, Junior..."
      ]
     },
     "execution_count": 46,
     "metadata": {},
     "output_type": "execute_result"
    }
   ],
   "source": [
    "year_df = all_data.groupby(['id'])['student_year'].apply(', '.join).reset_index()\n",
    "year_df.head()"
   ]
  },
  {
   "cell_type": "code",
   "execution_count": 47,
   "metadata": {},
   "outputs": [
    {
     "data": {
      "text/plain": [
       "(100000, 2)"
      ]
     },
     "execution_count": 47,
     "metadata": {},
     "output_type": "execute_result"
    }
   ],
   "source": [
    "year_df.shape"
   ]
  },
  {
   "cell_type": "markdown",
   "metadata": {},
   "source": [
    "The year_df dataframe contains all student years that each student has listed."
   ]
  },
  {
   "cell_type": "code",
   "execution_count": 48,
   "metadata": {},
   "outputs": [
    {
     "data": {
      "text/html": [
       "<div>\n",
       "<style scoped>\n",
       "    .dataframe tbody tr th:only-of-type {\n",
       "        vertical-align: middle;\n",
       "    }\n",
       "\n",
       "    .dataframe tbody tr th {\n",
       "        vertical-align: top;\n",
       "    }\n",
       "\n",
       "    .dataframe thead th {\n",
       "        text-align: right;\n",
       "    }\n",
       "</style>\n",
       "<table border=\"1\" class=\"dataframe\">\n",
       "  <thead>\n",
       "    <tr style=\"text-align: right;\">\n",
       "      <th></th>\n",
       "      <th>id</th>\n",
       "      <th>student_year</th>\n",
       "    </tr>\n",
       "  </thead>\n",
       "  <tbody>\n",
       "    <tr>\n",
       "      <th>0</th>\n",
       "      <td>13251</td>\n",
       "      <td>Freshman, Freshman, Sophmore, Sophmore, Junior...</td>\n",
       "    </tr>\n",
       "    <tr>\n",
       "      <th>1</th>\n",
       "      <td>13252</td>\n",
       "      <td>Freshman, Freshman, Sophmore, Sophmore, Junior...</td>\n",
       "    </tr>\n",
       "    <tr>\n",
       "      <th>2</th>\n",
       "      <td>13253</td>\n",
       "      <td>Freshman, Freshman, Sophmore, Sophmore, Junior...</td>\n",
       "    </tr>\n",
       "    <tr>\n",
       "      <th>3</th>\n",
       "      <td>13254</td>\n",
       "      <td>Freshman, Freshman, Sophmore, Sophmore, Junior...</td>\n",
       "    </tr>\n",
       "    <tr>\n",
       "      <th>4</th>\n",
       "      <td>13255</td>\n",
       "      <td>Freshman, Freshman, Sophmore, Sophmore, Junior...</td>\n",
       "    </tr>\n",
       "  </tbody>\n",
       "</table>\n",
       "</div>"
      ],
      "text/plain": [
       "      id                                       student_year\n",
       "0  13251  Freshman, Freshman, Sophmore, Sophmore, Junior...\n",
       "1  13252  Freshman, Freshman, Sophmore, Sophmore, Junior...\n",
       "2  13253  Freshman, Freshman, Sophmore, Sophmore, Junior...\n",
       "3  13254  Freshman, Freshman, Sophmore, Sophmore, Junior...\n",
       "4  13255  Freshman, Freshman, Sophmore, Sophmore, Junior..."
      ]
     },
     "execution_count": 48,
     "metadata": {},
     "output_type": "execute_result"
    }
   ],
   "source": [
    "freshmen = year_df[year_df['student_year'].str.contains('Freshman, Freshman')]\n",
    "freshmen.head()"
   ]
  },
  {
   "cell_type": "code",
   "execution_count": 49,
   "metadata": {},
   "outputs": [
    {
     "data": {
      "text/plain": [
       "(100000, 2)"
      ]
     },
     "execution_count": 49,
     "metadata": {},
     "output_type": "execute_result"
    }
   ],
   "source": [
    "freshmen.shape"
   ]
  },
  {
   "cell_type": "code",
   "execution_count": 50,
   "metadata": {},
   "outputs": [
    {
     "data": {
      "text/plain": [
       "(100000, 2)"
      ]
     },
     "execution_count": 50,
     "metadata": {},
     "output_type": "execute_result"
    }
   ],
   "source": [
    "seniors = year_df[year_df['student_year'].str.contains('Senior, Senior, Senior, Senior')]\n",
    "seniors.shape\n"
   ]
  },
  {
   "cell_type": "markdown",
   "metadata": {},
   "source": [
    "The freshmen dataframe contains all students that spent two semester at this university as a Freshman, hence making it impossible for them to have transferred to the University. There are the same number of students in this dataframe when compared to total students, thus there are no students that transferred into this University. In regards to students transferring out of the University, the seniors dataframe contains all students that spend four semesters at this university as senior, hence making it impossible that they transferred out of the university. There are the same number of students in this dataframe when compared to total students, thus there are no students that transferred out of this university."
   ]
  },
  {
   "cell_type": "markdown",
   "metadata": {},
   "source": [
    "#### What is the median length of attendence at this university?"
   ]
  },
  {
   "cell_type": "markdown",
   "metadata": {},
   "source": [
    "Using the previous year dataframe, count the number of semesters each student spent at the university. This is done by counting the number of commas in the string created and adding one."
   ]
  },
  {
   "cell_type": "code",
   "execution_count": 51,
   "metadata": {},
   "outputs": [
    {
     "data": {
      "text/html": [
       "<div>\n",
       "<style scoped>\n",
       "    .dataframe tbody tr th:only-of-type {\n",
       "        vertical-align: middle;\n",
       "    }\n",
       "\n",
       "    .dataframe tbody tr th {\n",
       "        vertical-align: top;\n",
       "    }\n",
       "\n",
       "    .dataframe thead th {\n",
       "        text-align: right;\n",
       "    }\n",
       "</style>\n",
       "<table border=\"1\" class=\"dataframe\">\n",
       "  <thead>\n",
       "    <tr style=\"text-align: right;\">\n",
       "      <th></th>\n",
       "      <th>id</th>\n",
       "      <th>student_year</th>\n",
       "      <th>total_semesters</th>\n",
       "    </tr>\n",
       "  </thead>\n",
       "  <tbody>\n",
       "    <tr>\n",
       "      <th>0</th>\n",
       "      <td>13251</td>\n",
       "      <td>Freshman, Freshman, Sophmore, Sophmore, Junior...</td>\n",
       "      <td>10</td>\n",
       "    </tr>\n",
       "    <tr>\n",
       "      <th>1</th>\n",
       "      <td>13252</td>\n",
       "      <td>Freshman, Freshman, Sophmore, Sophmore, Junior...</td>\n",
       "      <td>10</td>\n",
       "    </tr>\n",
       "    <tr>\n",
       "      <th>2</th>\n",
       "      <td>13253</td>\n",
       "      <td>Freshman, Freshman, Sophmore, Sophmore, Junior...</td>\n",
       "      <td>10</td>\n",
       "    </tr>\n",
       "    <tr>\n",
       "      <th>3</th>\n",
       "      <td>13254</td>\n",
       "      <td>Freshman, Freshman, Sophmore, Sophmore, Junior...</td>\n",
       "      <td>10</td>\n",
       "    </tr>\n",
       "    <tr>\n",
       "      <th>4</th>\n",
       "      <td>13255</td>\n",
       "      <td>Freshman, Freshman, Sophmore, Sophmore, Junior...</td>\n",
       "      <td>10</td>\n",
       "    </tr>\n",
       "  </tbody>\n",
       "</table>\n",
       "</div>"
      ],
      "text/plain": [
       "      id                                       student_year  total_semesters\n",
       "0  13251  Freshman, Freshman, Sophmore, Sophmore, Junior...               10\n",
       "1  13252  Freshman, Freshman, Sophmore, Sophmore, Junior...               10\n",
       "2  13253  Freshman, Freshman, Sophmore, Sophmore, Junior...               10\n",
       "3  13254  Freshman, Freshman, Sophmore, Sophmore, Junior...               10\n",
       "4  13255  Freshman, Freshman, Sophmore, Sophmore, Junior...               10"
      ]
     },
     "execution_count": 51,
     "metadata": {},
     "output_type": "execute_result"
    }
   ],
   "source": [
    "year_df['total_semesters'] = year_df['student_year'].str.count(',') + 1\n",
    "year_df.head()"
   ]
  },
  {
   "cell_type": "code",
   "execution_count": 52,
   "metadata": {},
   "outputs": [
    {
     "data": {
      "text/plain": [
       "10.0"
      ]
     },
     "execution_count": 52,
     "metadata": {},
     "output_type": "execute_result"
    }
   ],
   "source": [
    "year_df['total_semesters'].median()"
   ]
  },
  {
   "cell_type": "markdown",
   "metadata": {},
   "source": [
    "The median length of attendence at this university is 10 semesters."
   ]
  },
  {
   "cell_type": "markdown",
   "metadata": {},
   "source": [
    "#### Do you think this university has any one credit classes?"
   ]
  },
  {
   "cell_type": "code",
   "execution_count": 53,
   "metadata": {},
   "outputs": [
    {
     "data": {
      "text/plain": [
       "9     250264\n",
       "12    250264\n",
       "15    250006\n",
       "18    249466\n",
       "Name: credits, dtype: int64"
      ]
     },
     "execution_count": 53,
     "metadata": {},
     "output_type": "execute_result"
    }
   ],
   "source": [
    "all_data['credits'].value_counts()"
   ]
  },
  {
   "cell_type": "markdown",
   "metadata": {},
   "source": [
    "The only amounts of credits taken by students at this university are 9, 12, 15, or 18. Due to these values being in intervals of 3 and divisible by 3, it is unlikely that there are any 1 credit classes. It is likely that this university only has 3 credit classes."
   ]
  },
  {
   "cell_type": "markdown",
   "metadata": {},
   "source": [
    "#### Is grade inflation a problem at this university?"
   ]
  },
  {
   "cell_type": "code",
   "execution_count": 126,
   "metadata": {},
   "outputs": [
    {
     "data": {
      "image/png": "[encoded data removed]",
      "text/plain": [
       "<Figure size 1224x576 with 1 Axes>"
      ]
     },
     "metadata": {},
     "output_type": "display_data"
    }
   ],
   "source": [
    "plt.figure(figsize=(17,8), tight_layout=True)\n",
    "ax = sns.lineplot(x='year', y='gpa', data=all_data)\n",
    "ax.set(title='Year vs GPA')\n",
    "plt.show()"
   ]
  },
  {
   "cell_type": "code",
   "execution_count": 55,
   "metadata": {},
   "outputs": [
    {
     "data": {
      "text/html": [
       "<div>\n",
       "<style scoped>\n",
       "    .dataframe tbody tr th:only-of-type {\n",
       "        vertical-align: middle;\n",
       "    }\n",
       "\n",
       "    .dataframe tbody tr th {\n",
       "        vertical-align: top;\n",
       "    }\n",
       "\n",
       "    .dataframe thead th {\n",
       "        text-align: right;\n",
       "    }\n",
       "</style>\n",
       "<table border=\"1\" class=\"dataframe\">\n",
       "  <thead>\n",
       "    <tr style=\"text-align: right;\">\n",
       "      <th></th>\n",
       "      <th>count</th>\n",
       "      <th>mean</th>\n",
       "      <th>std</th>\n",
       "      <th>min</th>\n",
       "      <th>25%</th>\n",
       "      <th>50%</th>\n",
       "      <th>75%</th>\n",
       "      <th>max</th>\n",
       "    </tr>\n",
       "    <tr>\n",
       "      <th>year</th>\n",
       "      <th></th>\n",
       "      <th></th>\n",
       "      <th></th>\n",
       "      <th></th>\n",
       "      <th></th>\n",
       "      <th></th>\n",
       "      <th></th>\n",
       "      <th></th>\n",
       "    </tr>\n",
       "  </thead>\n",
       "  <tbody>\n",
       "    <tr>\n",
       "      <th>2005</th>\n",
       "      <td>6392.0</td>\n",
       "      <td>3.387455</td>\n",
       "      <td>0.660963</td>\n",
       "      <td>0.56</td>\n",
       "      <td>2.8600</td>\n",
       "      <td>3.59</td>\n",
       "      <td>4.0</td>\n",
       "      <td>4.0</td>\n",
       "    </tr>\n",
       "    <tr>\n",
       "      <th>2006</th>\n",
       "      <td>19019.0</td>\n",
       "      <td>3.456292</td>\n",
       "      <td>0.652268</td>\n",
       "      <td>0.00</td>\n",
       "      <td>2.9400</td>\n",
       "      <td>3.64</td>\n",
       "      <td>4.0</td>\n",
       "      <td>4.1</td>\n",
       "    </tr>\n",
       "    <tr>\n",
       "      <th>2007</th>\n",
       "      <td>31512.0</td>\n",
       "      <td>3.473510</td>\n",
       "      <td>0.648595</td>\n",
       "      <td>0.10</td>\n",
       "      <td>3.0200</td>\n",
       "      <td>3.67</td>\n",
       "      <td>4.0</td>\n",
       "      <td>4.1</td>\n",
       "    </tr>\n",
       "    <tr>\n",
       "      <th>2008</th>\n",
       "      <td>44111.0</td>\n",
       "      <td>3.484964</td>\n",
       "      <td>0.647977</td>\n",
       "      <td>0.10</td>\n",
       "      <td>3.0800</td>\n",
       "      <td>3.70</td>\n",
       "      <td>4.0</td>\n",
       "      <td>4.1</td>\n",
       "    </tr>\n",
       "    <tr>\n",
       "      <th>2009</th>\n",
       "      <td>56834.0</td>\n",
       "      <td>3.493322</td>\n",
       "      <td>0.645714</td>\n",
       "      <td>0.20</td>\n",
       "      <td>3.1000</td>\n",
       "      <td>3.73</td>\n",
       "      <td>4.0</td>\n",
       "      <td>4.1</td>\n",
       "    </tr>\n",
       "    <tr>\n",
       "      <th>2010</th>\n",
       "      <td>63014.0</td>\n",
       "      <td>3.504142</td>\n",
       "      <td>0.642260</td>\n",
       "      <td>0.00</td>\n",
       "      <td>3.1300</td>\n",
       "      <td>3.76</td>\n",
       "      <td>4.0</td>\n",
       "      <td>4.1</td>\n",
       "    </tr>\n",
       "    <tr>\n",
       "      <th>2011</th>\n",
       "      <td>62820.0</td>\n",
       "      <td>3.516568</td>\n",
       "      <td>0.634117</td>\n",
       "      <td>0.23</td>\n",
       "      <td>3.1500</td>\n",
       "      <td>3.77</td>\n",
       "      <td>4.0</td>\n",
       "      <td>4.1</td>\n",
       "    </tr>\n",
       "    <tr>\n",
       "      <th>2012</th>\n",
       "      <td>62763.0</td>\n",
       "      <td>3.526970</td>\n",
       "      <td>0.628149</td>\n",
       "      <td>0.00</td>\n",
       "      <td>3.1700</td>\n",
       "      <td>3.79</td>\n",
       "      <td>4.0</td>\n",
       "      <td>4.1</td>\n",
       "    </tr>\n",
       "    <tr>\n",
       "      <th>2013</th>\n",
       "      <td>62505.0</td>\n",
       "      <td>3.537912</td>\n",
       "      <td>0.621059</td>\n",
       "      <td>0.00</td>\n",
       "      <td>3.1900</td>\n",
       "      <td>3.82</td>\n",
       "      <td>4.0</td>\n",
       "      <td>4.1</td>\n",
       "    </tr>\n",
       "    <tr>\n",
       "      <th>2014</th>\n",
       "      <td>62263.0</td>\n",
       "      <td>3.548701</td>\n",
       "      <td>0.611137</td>\n",
       "      <td>0.00</td>\n",
       "      <td>3.2000</td>\n",
       "      <td>3.83</td>\n",
       "      <td>4.0</td>\n",
       "      <td>4.1</td>\n",
       "    </tr>\n",
       "    <tr>\n",
       "      <th>2015</th>\n",
       "      <td>62120.0</td>\n",
       "      <td>3.560524</td>\n",
       "      <td>0.603613</td>\n",
       "      <td>0.00</td>\n",
       "      <td>3.2200</td>\n",
       "      <td>3.85</td>\n",
       "      <td>4.0</td>\n",
       "      <td>4.1</td>\n",
       "    </tr>\n",
       "    <tr>\n",
       "      <th>2016</th>\n",
       "      <td>61997.0</td>\n",
       "      <td>3.568888</td>\n",
       "      <td>0.597362</td>\n",
       "      <td>0.37</td>\n",
       "      <td>3.2400</td>\n",
       "      <td>3.87</td>\n",
       "      <td>4.0</td>\n",
       "      <td>4.1</td>\n",
       "    </tr>\n",
       "    <tr>\n",
       "      <th>2017</th>\n",
       "      <td>61936.0</td>\n",
       "      <td>3.581197</td>\n",
       "      <td>0.589085</td>\n",
       "      <td>0.00</td>\n",
       "      <td>3.2700</td>\n",
       "      <td>3.89</td>\n",
       "      <td>4.0</td>\n",
       "      <td>4.1</td>\n",
       "    </tr>\n",
       "    <tr>\n",
       "      <th>2018</th>\n",
       "      <td>62002.0</td>\n",
       "      <td>3.591798</td>\n",
       "      <td>0.581686</td>\n",
       "      <td>0.00</td>\n",
       "      <td>3.2900</td>\n",
       "      <td>3.91</td>\n",
       "      <td>4.0</td>\n",
       "      <td>4.1</td>\n",
       "    </tr>\n",
       "    <tr>\n",
       "      <th>2019</th>\n",
       "      <td>62107.0</td>\n",
       "      <td>3.605843</td>\n",
       "      <td>0.572742</td>\n",
       "      <td>0.36</td>\n",
       "      <td>3.3200</td>\n",
       "      <td>3.94</td>\n",
       "      <td>4.0</td>\n",
       "      <td>4.1</td>\n",
       "    </tr>\n",
       "    <tr>\n",
       "      <th>2020</th>\n",
       "      <td>62246.0</td>\n",
       "      <td>3.614350</td>\n",
       "      <td>0.568056</td>\n",
       "      <td>0.46</td>\n",
       "      <td>3.3300</td>\n",
       "      <td>3.96</td>\n",
       "      <td>4.0</td>\n",
       "      <td>4.1</td>\n",
       "    </tr>\n",
       "    <tr>\n",
       "      <th>2021</th>\n",
       "      <td>56164.0</td>\n",
       "      <td>3.626989</td>\n",
       "      <td>0.560311</td>\n",
       "      <td>0.41</td>\n",
       "      <td>3.3800</td>\n",
       "      <td>4.00</td>\n",
       "      <td>4.0</td>\n",
       "      <td>4.1</td>\n",
       "    </tr>\n",
       "    <tr>\n",
       "      <th>2022</th>\n",
       "      <td>43789.0</td>\n",
       "      <td>3.629595</td>\n",
       "      <td>0.556854</td>\n",
       "      <td>0.46</td>\n",
       "      <td>3.3900</td>\n",
       "      <td>4.00</td>\n",
       "      <td>4.0</td>\n",
       "      <td>4.1</td>\n",
       "    </tr>\n",
       "    <tr>\n",
       "      <th>2023</th>\n",
       "      <td>31382.0</td>\n",
       "      <td>3.632903</td>\n",
       "      <td>0.556214</td>\n",
       "      <td>0.40</td>\n",
       "      <td>3.4000</td>\n",
       "      <td>4.00</td>\n",
       "      <td>4.0</td>\n",
       "      <td>4.1</td>\n",
       "    </tr>\n",
       "    <tr>\n",
       "      <th>2024</th>\n",
       "      <td>18796.0</td>\n",
       "      <td>3.637093</td>\n",
       "      <td>0.553152</td>\n",
       "      <td>0.46</td>\n",
       "      <td>3.4200</td>\n",
       "      <td>4.00</td>\n",
       "      <td>4.0</td>\n",
       "      <td>4.1</td>\n",
       "    </tr>\n",
       "    <tr>\n",
       "      <th>2025</th>\n",
       "      <td>6228.0</td>\n",
       "      <td>3.644038</td>\n",
       "      <td>0.550194</td>\n",
       "      <td>0.83</td>\n",
       "      <td>3.4175</td>\n",
       "      <td>4.00</td>\n",
       "      <td>4.0</td>\n",
       "      <td>4.1</td>\n",
       "    </tr>\n",
       "  </tbody>\n",
       "</table>\n",
       "</div>"
      ],
      "text/plain": [
       "        count      mean       std   min     25%   50%  75%  max\n",
       "year                                                           \n",
       "2005   6392.0  3.387455  0.660963  0.56  2.8600  3.59  4.0  4.0\n",
       "2006  19019.0  3.456292  0.652268  0.00  2.9400  3.64  4.0  4.1\n",
       "2007  31512.0  3.473510  0.648595  0.10  3.0200  3.67  4.0  4.1\n",
       "2008  44111.0  3.484964  0.647977  0.10  3.0800  3.70  4.0  4.1\n",
       "2009  56834.0  3.493322  0.645714  0.20  3.1000  3.73  4.0  4.1\n",
       "2010  63014.0  3.504142  0.642260  0.00  3.1300  3.76  4.0  4.1\n",
       "2011  62820.0  3.516568  0.634117  0.23  3.1500  3.77  4.0  4.1\n",
       "2012  62763.0  3.526970  0.628149  0.00  3.1700  3.79  4.0  4.1\n",
       "2013  62505.0  3.537912  0.621059  0.00  3.1900  3.82  4.0  4.1\n",
       "2014  62263.0  3.548701  0.611137  0.00  3.2000  3.83  4.0  4.1\n",
       "2015  62120.0  3.560524  0.603613  0.00  3.2200  3.85  4.0  4.1\n",
       "2016  61997.0  3.568888  0.597362  0.37  3.2400  3.87  4.0  4.1\n",
       "2017  61936.0  3.581197  0.589085  0.00  3.2700  3.89  4.0  4.1\n",
       "2018  62002.0  3.591798  0.581686  0.00  3.2900  3.91  4.0  4.1\n",
       "2019  62107.0  3.605843  0.572742  0.36  3.3200  3.94  4.0  4.1\n",
       "2020  62246.0  3.614350  0.568056  0.46  3.3300  3.96  4.0  4.1\n",
       "2021  56164.0  3.626989  0.560311  0.41  3.3800  4.00  4.0  4.1\n",
       "2022  43789.0  3.629595  0.556854  0.46  3.3900  4.00  4.0  4.1\n",
       "2023  31382.0  3.632903  0.556214  0.40  3.4000  4.00  4.0  4.1\n",
       "2024  18796.0  3.637093  0.553152  0.46  3.4200  4.00  4.0  4.1\n",
       "2025   6228.0  3.644038  0.550194  0.83  3.4175  4.00  4.0  4.1"
      ]
     },
     "execution_count": 55,
     "metadata": {},
     "output_type": "execute_result"
    }
   ],
   "source": [
    "all_data.groupby('year')['gpa'].describe()"
   ]
  },
  {
   "cell_type": "code",
   "execution_count": 56,
   "metadata": {},
   "outputs": [
    {
     "data": {
      "text/plain": [
       "46.6779"
      ]
     },
     "execution_count": 56,
     "metadata": {},
     "output_type": "execute_result"
    }
   ],
   "source": [
    "100*all_data[all_data['gpa'] >= 4.00].shape[0]/all_data.shape[0]"
   ]
  },
  {
   "cell_type": "markdown",
   "metadata": {},
   "source": [
    "The above table shows how students' GPA has changed over time. There is an evident increase in GPA over time, with the median GPA in 2005 being 3.59 gradually increasing until 2021 where the median GPA became 4.0 and remained there to the present. This indicates that grade inflation is a problem at this university."
   ]
  },
  {
   "cell_type": "markdown",
   "metadata": {},
   "source": [
    "#### How often do students switch majors?"
   ]
  },
  {
   "cell_type": "markdown",
   "metadata": {},
   "source": [
    "Create a dataframe that contains a list of all majors each semester for each student."
   ]
  },
  {
   "cell_type": "code",
   "execution_count": 57,
   "metadata": {},
   "outputs": [
    {
     "data": {
      "text/html": [
       "<div>\n",
       "<style scoped>\n",
       "    .dataframe tbody tr th:only-of-type {\n",
       "        vertical-align: middle;\n",
       "    }\n",
       "\n",
       "    .dataframe tbody tr th {\n",
       "        vertical-align: top;\n",
       "    }\n",
       "\n",
       "    .dataframe thead th {\n",
       "        text-align: right;\n",
       "    }\n",
       "</style>\n",
       "<table border=\"1\" class=\"dataframe\">\n",
       "  <thead>\n",
       "    <tr style=\"text-align: right;\">\n",
       "      <th></th>\n",
       "      <th>id</th>\n",
       "      <th>major</th>\n",
       "    </tr>\n",
       "  </thead>\n",
       "  <tbody>\n",
       "    <tr>\n",
       "      <th>0</th>\n",
       "      <td>13251</td>\n",
       "      <td>Math, Math, Math, Math, Math, Math, Math, Math...</td>\n",
       "    </tr>\n",
       "    <tr>\n",
       "      <th>1</th>\n",
       "      <td>13252</td>\n",
       "      <td>Engineering, Engineering, Engineering, Enginee...</td>\n",
       "    </tr>\n",
       "    <tr>\n",
       "      <th>2</th>\n",
       "      <td>13253</td>\n",
       "      <td>Math, Math, Math, Math, Math, Math, Math, Math...</td>\n",
       "    </tr>\n",
       "    <tr>\n",
       "      <th>3</th>\n",
       "      <td>13254</td>\n",
       "      <td>English, English, English, English, English, E...</td>\n",
       "    </tr>\n",
       "    <tr>\n",
       "      <th>4</th>\n",
       "      <td>13255</td>\n",
       "      <td>Math, Math, Math, Math, Math, Math, Math, Math...</td>\n",
       "    </tr>\n",
       "  </tbody>\n",
       "</table>\n",
       "</div>"
      ],
      "text/plain": [
       "      id                                              major\n",
       "0  13251  Math, Math, Math, Math, Math, Math, Math, Math...\n",
       "1  13252  Engineering, Engineering, Engineering, Enginee...\n",
       "2  13253  Math, Math, Math, Math, Math, Math, Math, Math...\n",
       "3  13254  English, English, English, English, English, E...\n",
       "4  13255  Math, Math, Math, Math, Math, Math, Math, Math..."
      ]
     },
     "execution_count": 57,
     "metadata": {},
     "output_type": "execute_result"
    }
   ],
   "source": [
    "majors_df = all_data.groupby(['id'])['major'].apply(', '.join).reset_index()\n",
    "majors_df.head()"
   ]
  },
  {
   "cell_type": "code",
   "execution_count": 58,
   "metadata": {},
   "outputs": [
    {
     "name": "stdout",
     "output_type": "stream",
     "text": [
      "Number of students who switched majors: 6785\n",
      "Percentage of students who switched majors: 6.785\n"
     ]
    }
   ],
   "source": [
    "major_changes = 0\n",
    "for idx, student in majors_df.iterrows():\n",
    "    all_majors = student['major'].split(', ')\n",
    "    if all(major == all_majors[0] for major in all_majors) == False:\n",
    "        major_changes += 1\n",
    "print(f'Number of students who switched majors: {major_changes}\\nPercentage of students who switched majors: {100*major_changes/majors_df.shape[0]}')\n"
   ]
  },
  {
   "cell_type": "markdown",
   "metadata": {},
   "source": [
    "The above code checks that all majors listed for each student are the same throughout their time at the university. If any are different, this indicates that they switched majors. 6785 students switched majors which is 6.785% of students."
   ]
  },
  {
   "cell_type": "markdown",
   "metadata": {},
   "source": [
    "#### In what area do you think the University might be located?"
   ]
  },
  {
   "cell_type": "code",
   "execution_count": 59,
   "metadata": {},
   "outputs": [
    {
     "name": "stdout",
     "output_type": "stream",
     "text": [
      "Average latitude: 37.572477039173805\n",
      "Average longitude: -84.17148162333395\n"
     ]
    }
   ],
   "source": [
    "avg_lat = all_data['lat'].mean()\n",
    "avg_lon = all_data['lon'].mean()\n",
    "print(f'Average latitude: {avg_lat}\\nAverage longitude: {avg_lon}')"
   ]
  },
  {
   "cell_type": "markdown",
   "metadata": {},
   "source": [
    "The average latitude of students that attend this university is 37.57, the average longitude is -84.17.\n",
    "\n",
    "This latitude and longitude is located in central Kentucky. Thus, it is likely that this university is located somewhere in Kentucky. There are three clusters of students spread somewhat throughout Kentucky so the true location of the university might not be exactly at this average location."
   ]
  },
  {
   "cell_type": "markdown",
   "metadata": {},
   "source": [
    "#### Do different majors have different GPA distributions?"
   ]
  },
  {
   "cell_type": "markdown",
   "metadata": {},
   "source": [
    "Do determine this, a Kruskal-Wallis test will be used. This test asses if there is a statistically significant difference in distributions across many groups."
   ]
  },
  {
   "cell_type": "markdown",
   "metadata": {},
   "source": [
    "Begin by separating the GPAs of each major into their own set. (English majors will have GPAs over 4.0 set to 4.0)"
   ]
  },
  {
   "cell_type": "code",
   "execution_count": 60,
   "metadata": {},
   "outputs": [],
   "source": [
    "all_data.loc[all_data['gpa'] > 4.0, 'gpa'] = 4.0"
   ]
  },
  {
   "cell_type": "code",
   "execution_count": 61,
   "metadata": {},
   "outputs": [],
   "source": [
    "english = all_data[all_data['major'] == 'English']['gpa']\n",
    "engineering = all_data[all_data['major'] == 'Engineering']['gpa']\n",
    "cs = all_data[all_data['major'] == 'CS']['gpa']\n",
    "math = all_data[all_data['major'] == 'Math']['gpa']\n",
    "physics = all_data[all_data['major'] == 'Physics']['gpa']\n"
   ]
  },
  {
   "cell_type": "code",
   "execution_count": 62,
   "metadata": {},
   "outputs": [],
   "source": [
    "from scipy import stats"
   ]
  },
  {
   "cell_type": "code",
   "execution_count": 63,
   "metadata": {},
   "outputs": [
    {
     "name": "stdout",
     "output_type": "stream",
     "text": [
      "Kruskal-Wallis statistic: 920.550\n",
      "P-value: 5.877003932815396e-198\n"
     ]
    }
   ],
   "source": [
    "stat, p_val = stats.kruskal(english, math, cs, engineering, physics)\n",
    "print(f'Kruskal-Wallis statistic: {stat:.3f}\\nP-value: {p_val}')"
   ]
  },
  {
   "cell_type": "markdown",
   "metadata": {},
   "source": [
    "Our p-value is less than our significance level of 0.05, thus we reject our null hypothesis. Here, our null hypothesis is that each major's GPA distributions are the same. Thus, there is significant evidence at least one pair of majors that have different GPA distributions. Therefore, different majors have different GPA distributions."
   ]
  },
  {
   "cell_type": "markdown",
   "metadata": {},
   "source": [
    "#### Does tutoring make a statistically significant difference in grade?"
   ]
  },
  {
   "cell_type": "markdown",
   "metadata": {},
   "source": [
    "Initially check to see if GPAs are normally distributed to see if ANOVA test is applicable. This is done using an Anderson-Darling test."
   ]
  },
  {
   "cell_type": "code",
   "execution_count": 64,
   "metadata": {},
   "outputs": [
    {
     "name": "stdout",
     "output_type": "stream",
     "text": [
      "Anderson-Darling Statistic: 84366.144\n",
      "Critical Values: [0.576 0.656 0.787 0.918 1.092]\n",
      "Significance Levels: [15.  10.   5.   2.5  1. ]\n",
      "Data is not normally distributed\n"
     ]
    }
   ],
   "source": [
    "result = stats.anderson(all_data['gpa'])\n",
    "print(f'Anderson-Darling Statistic: {result.statistic:.3f}\\nCritical Values: {result.critical_values}\\nSignificance Levels: {result.significance_level}')\n",
    "if result.statistic < result.critical_values[2]:\n",
    "    print(\"normal\")\n",
    "else:\n",
    "    print(\"Data is not normally distributed\")"
   ]
  },
  {
   "cell_type": "markdown",
   "metadata": {},
   "source": [
    "GPA is not normally distributed throughout the data. This was expected due to the obvious grade inflation. Instead, a Point-Biserial test will be used to see if there is a correlation between tutoring and GPA."
   ]
  },
  {
   "cell_type": "code",
   "execution_count": 65,
   "metadata": {},
   "outputs": [],
   "source": [
    "tutoring = []\n",
    "for idx, student in all_data.iterrows():\n",
    "    if student['tutoring'] == 'Yes':\n",
    "        tutoring.append(1)\n",
    "    else:\n",
    "        tutoring.append(0)"
   ]
  },
  {
   "cell_type": "code",
   "execution_count": 66,
   "metadata": {},
   "outputs": [
    {
     "name": "stdout",
     "output_type": "stream",
     "text": [
      "Correlation Coefficient: -0.053\n",
      "P-value: 0.0000\n"
     ]
    }
   ],
   "source": [
    "corr, p_val = stats.pointbiserialr(tutoring, all_data['gpa'])\n",
    "print(f'Correlation Coefficient: {corr:.3f}\\nP-value: {p_val:.4f}')"
   ]
  },
  {
   "cell_type": "markdown",
   "metadata": {},
   "source": [
    "Our P-value is less than our significance level of 0.05, thus we reject the null hypothesis. Our null hypothesis is that tutoring does not have a statistically significant relationship with GPA. Thus, there is a statistically significant relationship between tutoring and GPA. Therefore, tutoring makes a statistically significant difference in grade. Furthermore, our correlation coefficient is -0.053, which indicates a slightly negative correlation, which mirrors the observations that were made earlier when observing the tutoring variable."
   ]
  },
  {
   "cell_type": "markdown",
   "metadata": {},
   "source": [
    "# Data Cleaning"
   ]
  },
  {
   "cell_type": "markdown",
   "metadata": {},
   "source": [
    "## Check for null values"
   ]
  },
  {
   "cell_type": "code",
   "execution_count": 67,
   "metadata": {},
   "outputs": [
    {
     "data": {
      "text/plain": [
       "id                       0\n",
       "lat                      0\n",
       "lon                      0\n",
       "gpa                      0\n",
       "avg_hours_studied        0\n",
       "parents_income           0\n",
       "major                    0\n",
       "tutoring             49498\n",
       "semester                 0\n",
       "year                     0\n",
       "credits                  0\n",
       "student_age              0\n",
       "student_year             0\n",
       "dtype: int64"
      ]
     },
     "execution_count": 67,
     "metadata": {},
     "output_type": "execute_result"
    }
   ],
   "source": [
    "nulls = all_data.isnull().sum()\n",
    "nulls"
   ]
  },
  {
   "cell_type": "code",
   "execution_count": 68,
   "metadata": {},
   "outputs": [
    {
     "data": {
      "text/html": [
       "<div>\n",
       "<style scoped>\n",
       "    .dataframe tbody tr th:only-of-type {\n",
       "        vertical-align: middle;\n",
       "    }\n",
       "\n",
       "    .dataframe tbody tr th {\n",
       "        vertical-align: top;\n",
       "    }\n",
       "\n",
       "    .dataframe thead th {\n",
       "        text-align: right;\n",
       "    }\n",
       "</style>\n",
       "<table border=\"1\" class=\"dataframe\">\n",
       "  <thead>\n",
       "    <tr style=\"text-align: right;\">\n",
       "      <th></th>\n",
       "      <th>id</th>\n",
       "      <th>lat</th>\n",
       "      <th>lon</th>\n",
       "      <th>gpa</th>\n",
       "      <th>avg_hours_studied</th>\n",
       "      <th>parents_income</th>\n",
       "      <th>major</th>\n",
       "      <th>tutoring</th>\n",
       "      <th>semester</th>\n",
       "      <th>year</th>\n",
       "      <th>credits</th>\n",
       "      <th>student_age</th>\n",
       "      <th>student_year</th>\n",
       "    </tr>\n",
       "  </thead>\n",
       "  <tbody>\n",
       "    <tr>\n",
       "      <th>25</th>\n",
       "      <td>13253</td>\n",
       "      <td>39.313355</td>\n",
       "      <td>-93.858182</td>\n",
       "      <td>3.67</td>\n",
       "      <td>4</td>\n",
       "      <td>69090.108548</td>\n",
       "      <td>Math</td>\n",
       "      <td>NaN</td>\n",
       "      <td>Spring</td>\n",
       "      <td>2009</td>\n",
       "      <td>15</td>\n",
       "      <td>25</td>\n",
       "      <td>Junior</td>\n",
       "    </tr>\n",
       "    <tr>\n",
       "      <th>71</th>\n",
       "      <td>13258</td>\n",
       "      <td>39.156290</td>\n",
       "      <td>-77.105080</td>\n",
       "      <td>4.00</td>\n",
       "      <td>6</td>\n",
       "      <td>154662.439742</td>\n",
       "      <td>Physics</td>\n",
       "      <td>NaN</td>\n",
       "      <td>Spring</td>\n",
       "      <td>2008</td>\n",
       "      <td>12</td>\n",
       "      <td>20</td>\n",
       "      <td>Freshman</td>\n",
       "    </tr>\n",
       "    <tr>\n",
       "      <th>73</th>\n",
       "      <td>13258</td>\n",
       "      <td>39.156290</td>\n",
       "      <td>-77.105080</td>\n",
       "      <td>4.00</td>\n",
       "      <td>6</td>\n",
       "      <td>154662.439742</td>\n",
       "      <td>Physics</td>\n",
       "      <td>NaN</td>\n",
       "      <td>Spring</td>\n",
       "      <td>2009</td>\n",
       "      <td>12</td>\n",
       "      <td>21</td>\n",
       "      <td>Sophmore</td>\n",
       "    </tr>\n",
       "    <tr>\n",
       "      <th>79</th>\n",
       "      <td>13258</td>\n",
       "      <td>39.156290</td>\n",
       "      <td>-77.105080</td>\n",
       "      <td>4.00</td>\n",
       "      <td>4</td>\n",
       "      <td>154662.439742</td>\n",
       "      <td>Physics</td>\n",
       "      <td>NaN</td>\n",
       "      <td>Spring</td>\n",
       "      <td>2012</td>\n",
       "      <td>12</td>\n",
       "      <td>24</td>\n",
       "      <td>Senior</td>\n",
       "    </tr>\n",
       "    <tr>\n",
       "      <th>192</th>\n",
       "      <td>13270</td>\n",
       "      <td>39.538076</td>\n",
       "      <td>-76.738201</td>\n",
       "      <td>4.00</td>\n",
       "      <td>6</td>\n",
       "      <td>100241.332215</td>\n",
       "      <td>Engineering</td>\n",
       "      <td>NaN</td>\n",
       "      <td>Fall</td>\n",
       "      <td>2013</td>\n",
       "      <td>9</td>\n",
       "      <td>18</td>\n",
       "      <td>Sophmore</td>\n",
       "    </tr>\n",
       "  </tbody>\n",
       "</table>\n",
       "</div>"
      ],
      "text/plain": [
       "        id        lat        lon   gpa  avg_hours_studied  parents_income  \\\n",
       "25   13253  39.313355 -93.858182  3.67                  4    69090.108548   \n",
       "71   13258  39.156290 -77.105080  4.00                  6   154662.439742   \n",
       "73   13258  39.156290 -77.105080  4.00                  6   154662.439742   \n",
       "79   13258  39.156290 -77.105080  4.00                  4   154662.439742   \n",
       "192  13270  39.538076 -76.738201  4.00                  6   100241.332215   \n",
       "\n",
       "           major tutoring semester  year  credits  student_age student_year  \n",
       "25          Math      NaN   Spring  2009       15           25       Junior  \n",
       "71       Physics      NaN   Spring  2008       12           20     Freshman  \n",
       "73       Physics      NaN   Spring  2009       12           21     Sophmore  \n",
       "79       Physics      NaN   Spring  2012       12           24       Senior  \n",
       "192  Engineering      NaN     Fall  2013        9           18     Sophmore  "
      ]
     },
     "execution_count": 68,
     "metadata": {},
     "output_type": "execute_result"
    }
   ],
   "source": [
    "rows_with_null = all_data[all_data.isnull().any(axis=1)]\n",
    "rows_with_null.head()"
   ]
  },
  {
   "cell_type": "markdown",
   "metadata": {},
   "source": [
    "The only variable with missing values is the tutoring variable. Approximately 5% of the values are Null. It is a safe assumption to make that the Null values indicate that the student did not recieve tutoring. Each of the Null values will be replaced with No."
   ]
  },
  {
   "cell_type": "code",
   "execution_count": 69,
   "metadata": {},
   "outputs": [
    {
     "data": {
      "text/plain": [
       "id                   0\n",
       "lat                  0\n",
       "lon                  0\n",
       "gpa                  0\n",
       "avg_hours_studied    0\n",
       "parents_income       0\n",
       "major                0\n",
       "tutoring             0\n",
       "semester             0\n",
       "year                 0\n",
       "credits              0\n",
       "student_age          0\n",
       "student_year         0\n",
       "dtype: int64"
      ]
     },
     "execution_count": 69,
     "metadata": {},
     "output_type": "execute_result"
    }
   ],
   "source": [
    "all_data['tutoring'].fillna(\"No\", inplace = True)\n",
    "all_data.isnull().sum()"
   ]
  },
  {
   "cell_type": "markdown",
   "metadata": {},
   "source": [
    "## Handling Outliers"
   ]
  },
  {
   "cell_type": "code",
   "execution_count": 70,
   "metadata": {},
   "outputs": [
    {
     "data": {
      "text/html": [
       "<div>\n",
       "<style scoped>\n",
       "    .dataframe tbody tr th:only-of-type {\n",
       "        vertical-align: middle;\n",
       "    }\n",
       "\n",
       "    .dataframe tbody tr th {\n",
       "        vertical-align: top;\n",
       "    }\n",
       "\n",
       "    .dataframe thead th {\n",
       "        text-align: right;\n",
       "    }\n",
       "</style>\n",
       "<table border=\"1\" class=\"dataframe\">\n",
       "  <thead>\n",
       "    <tr style=\"text-align: right;\">\n",
       "      <th></th>\n",
       "      <th>count</th>\n",
       "      <th>mean</th>\n",
       "      <th>std</th>\n",
       "      <th>min</th>\n",
       "      <th>25%</th>\n",
       "      <th>50%</th>\n",
       "      <th>75%</th>\n",
       "      <th>max</th>\n",
       "    </tr>\n",
       "  </thead>\n",
       "  <tbody>\n",
       "    <tr>\n",
       "      <th>id</th>\n",
       "      <td>1000000.0</td>\n",
       "      <td>63250.500000</td>\n",
       "      <td>28867.527892</td>\n",
       "      <td>13251.000000</td>\n",
       "      <td>38250.750000</td>\n",
       "      <td>63250.500000</td>\n",
       "      <td>88250.250000</td>\n",
       "      <td>113250.000000</td>\n",
       "    </tr>\n",
       "    <tr>\n",
       "      <th>lat</th>\n",
       "      <td>1000000.0</td>\n",
       "      <td>37.572477</td>\n",
       "      <td>2.772581</td>\n",
       "      <td>31.899546</td>\n",
       "      <td>38.399398</td>\n",
       "      <td>39.050620</td>\n",
       "      <td>39.296096</td>\n",
       "      <td>40.196585</td>\n",
       "    </tr>\n",
       "    <tr>\n",
       "      <th>lon</th>\n",
       "      <td>1000000.0</td>\n",
       "      <td>-84.171482</td>\n",
       "      <td>7.572241</td>\n",
       "      <td>-94.754033</td>\n",
       "      <td>-93.387511</td>\n",
       "      <td>-77.548696</td>\n",
       "      <td>-76.812233</td>\n",
       "      <td>-75.790679</td>\n",
       "    </tr>\n",
       "    <tr>\n",
       "      <th>gpa</th>\n",
       "      <td>1000000.0</td>\n",
       "      <td>3.549240</td>\n",
       "      <td>0.600140</td>\n",
       "      <td>0.000000</td>\n",
       "      <td>3.210000</td>\n",
       "      <td>3.870000</td>\n",
       "      <td>4.000000</td>\n",
       "      <td>4.000000</td>\n",
       "    </tr>\n",
       "    <tr>\n",
       "      <th>avg_hours_studied</th>\n",
       "      <td>1000000.0</td>\n",
       "      <td>5.437559</td>\n",
       "      <td>100.959857</td>\n",
       "      <td>0.000000</td>\n",
       "      <td>3.000000</td>\n",
       "      <td>4.000000</td>\n",
       "      <td>5.000000</td>\n",
       "      <td>10000.000000</td>\n",
       "    </tr>\n",
       "    <tr>\n",
       "      <th>parents_income</th>\n",
       "      <td>1000000.0</td>\n",
       "      <td>88670.500485</td>\n",
       "      <td>30835.445794</td>\n",
       "      <td>18229.301767</td>\n",
       "      <td>64680.880300</td>\n",
       "      <td>79932.013390</td>\n",
       "      <td>109623.813422</td>\n",
       "      <td>196273.337246</td>\n",
       "    </tr>\n",
       "    <tr>\n",
       "      <th>year</th>\n",
       "      <td>1000000.0</td>\n",
       "      <td>2014.978660</td>\n",
       "      <td>4.857990</td>\n",
       "      <td>2005.000000</td>\n",
       "      <td>2011.000000</td>\n",
       "      <td>2015.000000</td>\n",
       "      <td>2019.000000</td>\n",
       "      <td>2025.000000</td>\n",
       "    </tr>\n",
       "    <tr>\n",
       "      <th>credits</th>\n",
       "      <td>1000000.0</td>\n",
       "      <td>13.496022</td>\n",
       "      <td>3.353377</td>\n",
       "      <td>9.000000</td>\n",
       "      <td>9.000000</td>\n",
       "      <td>12.000000</td>\n",
       "      <td>15.000000</td>\n",
       "      <td>18.000000</td>\n",
       "    </tr>\n",
       "    <tr>\n",
       "      <th>student_age</th>\n",
       "      <td>1000000.0</td>\n",
       "      <td>21.234460</td>\n",
       "      <td>2.506658</td>\n",
       "      <td>17.000000</td>\n",
       "      <td>20.000000</td>\n",
       "      <td>21.000000</td>\n",
       "      <td>22.000000</td>\n",
       "      <td>33.000000</td>\n",
       "    </tr>\n",
       "  </tbody>\n",
       "</table>\n",
       "</div>"
      ],
      "text/plain": [
       "                       count          mean           std           min  \\\n",
       "id                 1000000.0  63250.500000  28867.527892  13251.000000   \n",
       "lat                1000000.0     37.572477      2.772581     31.899546   \n",
       "lon                1000000.0    -84.171482      7.572241    -94.754033   \n",
       "gpa                1000000.0      3.549240      0.600140      0.000000   \n",
       "avg_hours_studied  1000000.0      5.437559    100.959857      0.000000   \n",
       "parents_income     1000000.0  88670.500485  30835.445794  18229.301767   \n",
       "year               1000000.0   2014.978660      4.857990   2005.000000   \n",
       "credits            1000000.0     13.496022      3.353377      9.000000   \n",
       "student_age        1000000.0     21.234460      2.506658     17.000000   \n",
       "\n",
       "                            25%           50%            75%            max  \n",
       "id                 38250.750000  63250.500000   88250.250000  113250.000000  \n",
       "lat                   38.399398     39.050620      39.296096      40.196585  \n",
       "lon                  -93.387511    -77.548696     -76.812233     -75.790679  \n",
       "gpa                    3.210000      3.870000       4.000000       4.000000  \n",
       "avg_hours_studied      3.000000      4.000000       5.000000   10000.000000  \n",
       "parents_income     64680.880300  79932.013390  109623.813422  196273.337246  \n",
       "year                2011.000000   2015.000000    2019.000000    2025.000000  \n",
       "credits                9.000000     12.000000      15.000000      18.000000  \n",
       "student_age           20.000000     21.000000      22.000000      33.000000  "
      ]
     },
     "execution_count": 70,
     "metadata": {},
     "output_type": "execute_result"
    }
   ],
   "source": [
    "all_data.describe().T"
   ]
  },
  {
   "cell_type": "code",
   "execution_count": 71,
   "metadata": {},
   "outputs": [
    {
     "data": {
      "text/plain": [
       "10000    102\n",
       "Name: avg_hours_studied, dtype: int64"
      ]
     },
     "execution_count": 71,
     "metadata": {},
     "output_type": "execute_result"
    }
   ],
   "source": [
    "all_data[all_data['avg_hours_studied'] > 168]['avg_hours_studied'].value_counts()"
   ]
  },
  {
   "cell_type": "code",
   "execution_count": 72,
   "metadata": {},
   "outputs": [
    {
     "data": {
      "text/plain": [
       "0.0102"
      ]
     },
     "execution_count": 72,
     "metadata": {},
     "output_type": "execute_result"
    }
   ],
   "source": [
    "100*all_data[all_data['avg_hours_studied'] > 168]['avg_hours_studied'].shape[0]/all_data.shape[0]"
   ]
  },
  {
   "cell_type": "markdown",
   "metadata": {},
   "source": [
    "There are 102 datapoints where students studied for more hours than there are in a week. These are clear outliers. As hours studied per week is one of the strongest predictors of GPA, these datapoints will be removed from the dataset entirely. This is only 0.01% of the data and should not significantly effect it."
   ]
  },
  {
   "cell_type": "code",
   "execution_count": 73,
   "metadata": {},
   "outputs": [],
   "source": [
    "all_data = all_data[all_data['avg_hours_studied'] <= 168]"
   ]
  },
  {
   "cell_type": "code",
   "execution_count": 74,
   "metadata": {},
   "outputs": [
    {
     "data": {
      "text/plain": [
       "(999898, 13)"
      ]
     },
     "execution_count": 74,
     "metadata": {},
     "output_type": "execute_result"
    }
   ],
   "source": [
    "all_data.shape"
   ]
  },
  {
   "cell_type": "code",
   "execution_count": 75,
   "metadata": {},
   "outputs": [],
   "source": [
    "all_data.loc[all_data['gpa'] > 4.0, 'gpa'] = 4.0"
   ]
  },
  {
   "cell_type": "code",
   "execution_count": 76,
   "metadata": {},
   "outputs": [
    {
     "data": {
      "text/plain": [
       "count    999898.000000\n",
       "mean          3.549246\n",
       "std           0.600134\n",
       "min           0.000000\n",
       "25%           3.210000\n",
       "50%           3.870000\n",
       "75%           4.000000\n",
       "max           4.000000\n",
       "Name: gpa, dtype: float64"
      ]
     },
     "execution_count": 76,
     "metadata": {},
     "output_type": "execute_result"
    }
   ],
   "source": [
    "all_data['gpa'].describe()"
   ]
  },
  {
   "cell_type": "markdown",
   "metadata": {},
   "source": [
    "As mentioned earlier, GPAs over 4.0 will be reduced to 4.0. This has already been done, but is reiterated here."
   ]
  },
  {
   "cell_type": "code",
   "execution_count": 133,
   "metadata": {},
   "outputs": [
    {
     "name": "stdout",
     "output_type": "stream",
     "text": [
      "The mean of parents income is: 88670.59250679673\n",
      "The standard deviation of parents income is: 30835.46477638643\n"
     ]
    }
   ],
   "source": [
    "mean = np.mean(all_data['parents_income'])\n",
    "std = np.std(all_data['parents_income'])\n",
    "print(f'The mean of parents income is: {mean}')\n",
    "print(f'The standard deviation of parents income is: {std}')"
   ]
  },
  {
   "cell_type": "code",
   "execution_count": 141,
   "metadata": {},
   "outputs": [
    {
     "name": "stdout",
     "output_type": "stream",
     "text": [
      "The outliers are: []\n"
     ]
    }
   ],
   "source": [
    "threshold = 3.5\n",
    "outliers = []\n",
    "for income in all_data['parents_income']:\n",
    "    z = (income - mean)/std\n",
    "    if z > threshold:\n",
    "        outliers.append(income)\n",
    "print(f'The outliers are: {outliers}')"
   ]
  },
  {
   "cell_type": "markdown",
   "metadata": {},
   "source": [
    "The only other variable that might have significant outliers is parents income. I performed a z-test with a threshold z-score of 3.5 to test for significant outliers and none were returned. Thus, nothing needs to be done to the variable in terms of outliers."
   ]
  },
  {
   "cell_type": "markdown",
   "metadata": {},
   "source": [
    "## Handling latitude and longitude"
   ]
  },
  {
   "cell_type": "code",
   "execution_count": 158,
   "metadata": {},
   "outputs": [
    {
     "data": {
      "image/png": "[encoded data removed]",
      "text/plain": [
       "<Figure size 360x216 with 1 Axes>"
      ]
     },
     "metadata": {},
     "output_type": "display_data"
    }
   ],
   "source": [
    "plt.figure(figsize=(5,3), tight_layout=True)\n",
    "ax = sns.histplot(data=all_data, x = 'lat')\n",
    "ax.set(title='Latitude Histogram')\n",
    "plt.show()"
   ]
  },
  {
   "cell_type": "code",
   "execution_count": 157,
   "metadata": {},
   "outputs": [
    {
     "data": {
      "image/png": "[encoded data removed]",
      "text/plain": [
       "<Figure size 360x216 with 1 Axes>"
      ]
     },
     "metadata": {},
     "output_type": "display_data"
    }
   ],
   "source": [
    "plt.figure(figsize=(5,3), tight_layout=True)\n",
    "ax = sns.histplot(data=all_data, x = 'lon')\n",
    "ax.set(title='Longitude Histogram')\n",
    "plt.show()"
   ]
  },
  {
   "cell_type": "markdown",
   "metadata": {},
   "source": [
    "There are clusters within the latitudes and longitudes that students live. This will be handled by bucking the students into various zones. First, check where these zones are."
   ]
  },
  {
   "cell_type": "code",
   "execution_count": 79,
   "metadata": {},
   "outputs": [
    {
     "data": {
      "text/plain": [
       "(248691, 13)"
      ]
     },
     "execution_count": 79,
     "metadata": {},
     "output_type": "execute_result"
    }
   ],
   "source": [
    "lat31_35lon90_86 = all_data.query('lat > 31 & lat < 35 & lon > -90 & lon < -86')\n",
    "lat31_35lon90_86.shape"
   ]
  },
  {
   "cell_type": "code",
   "execution_count": 80,
   "metadata": {},
   "outputs": [
    {
     "data": {
      "text/plain": [
       "(0, 13)"
      ]
     },
     "execution_count": 80,
     "metadata": {},
     "output_type": "execute_result"
    }
   ],
   "source": [
    "lat31_35lon96_92 = all_data.query('lat > 31 & lat < 35 & lon > -96 & lon < -92')\n",
    "lat31_35lon96_92.shape"
   ]
  },
  {
   "cell_type": "code",
   "execution_count": 81,
   "metadata": {},
   "outputs": [
    {
     "data": {
      "text/plain": [
       "(0, 13)"
      ]
     },
     "execution_count": 81,
     "metadata": {},
     "output_type": "execute_result"
    }
   ],
   "source": [
    "lat31_35lon80_75 = all_data.query('lat > 31 & lat < 35 & lon > -80 & lon < -75')\n",
    "lat31_35lon80_75.shape"
   ]
  },
  {
   "cell_type": "code",
   "execution_count": 82,
   "metadata": {},
   "outputs": [
    {
     "data": {
      "text/plain": [
       "(0, 13)"
      ]
     },
     "execution_count": 82,
     "metadata": {},
     "output_type": "execute_result"
    }
   ],
   "source": [
    "lat38_41lon90_86 = all_data.query('lat > 38 & lat < 41 & lon > -90 & lon < -86')\n",
    "lat38_41lon90_86.shape"
   ]
  },
  {
   "cell_type": "code",
   "execution_count": 83,
   "metadata": {},
   "outputs": [
    {
     "data": {
      "text/plain": [
       "(250369, 13)"
      ]
     },
     "execution_count": 83,
     "metadata": {},
     "output_type": "execute_result"
    }
   ],
   "source": [
    "lat38_41lon96_92 = all_data.query('lat > 38 & lat < 41 & lon > -96 & lon < -92')\n",
    "lat38_41lon96_92.shape"
   ]
  },
  {
   "cell_type": "code",
   "execution_count": 84,
   "metadata": {},
   "outputs": [
    {
     "data": {
      "text/plain": [
       "(500838, 13)"
      ]
     },
     "execution_count": 84,
     "metadata": {},
     "output_type": "execute_result"
    }
   ],
   "source": [
    "lat38_41lon80_75 = all_data.query('lat > 38 & lat < 41 & lon > -80 & lon < -75')\n",
    "lat38_41lon80_75.shape"
   ]
  },
  {
   "cell_type": "code",
   "execution_count": 85,
   "metadata": {},
   "outputs": [
    {
     "data": {
      "text/plain": [
       "1.0"
      ]
     },
     "execution_count": 85,
     "metadata": {},
     "output_type": "execute_result"
    }
   ],
   "source": [
    "(lat38_41lon80_75.shape[0] + lat38_41lon96_92.shape[0] + lat31_35lon90_86.shape[0]) / all_data.shape[0]"
   ]
  },
  {
   "cell_type": "markdown",
   "metadata": {},
   "source": [
    "The students are divided into three zones: \n",
    "\n",
    "* Latitude: (38,41), Longitude: (-80, -75)\n",
    "\n",
    "* Latitude: (38,41), Longitude: (-96, -92)\n",
    "\n",
    "* Latitude: (31,35), Longitude: (-90, -86)\n",
    "\n",
    "These three zones account for all of the students with no overlap. The data will be bucketed into these three zones."
   ]
  },
  {
   "cell_type": "code",
   "execution_count": 86,
   "metadata": {},
   "outputs": [],
   "source": [
    "all_data['Location'] = np.where((all_data['lat'] > 38.0) & (all_data['lat'] < 41.0) \n",
    "        & (all_data['lon'] > -80.0) & (all_data['lon'] < -75.0), 'Zone 1',\n",
    "        np.where((all_data['lat'] > 38) & (all_data['lat'] < 41) \n",
    "        & (all_data['lon'] > -96) & (all_data['lon'] < -92), 'Zone 2',\n",
    "        np.where((all_data['lat'] > 31) & (all_data['lat'] < 35) \n",
    "        & (all_data['lon'] > -90) & (all_data['lon'] < -86), 'Zone 3', 'No Zone')))"
   ]
  },
  {
   "cell_type": "code",
   "execution_count": 87,
   "metadata": {},
   "outputs": [
    {
     "data": {
      "text/plain": [
       "Zone 1    500838\n",
       "Zone 2    250369\n",
       "Zone 3    248691\n",
       "Name: Location, dtype: int64"
      ]
     },
     "execution_count": 87,
     "metadata": {},
     "output_type": "execute_result"
    }
   ],
   "source": [
    "all_data['Location'].value_counts()"
   ]
  },
  {
   "cell_type": "code",
   "execution_count": 102,
   "metadata": {},
   "outputs": [
    {
     "data": {
      "image/png": "[encoded data removed]",
      "text/plain": [
       "<Figure size 1224x576 with 1 Axes>"
      ]
     },
     "metadata": {},
     "output_type": "display_data"
    }
   ],
   "source": [
    "plt.figure(figsize=(17,8), tight_layout=True)\n",
    "ax = sns.barplot(x='Location', y='gpa', data=all_data)\n",
    "ax.set(title='Location vs GPA')\n",
    "plt.show()"
   ]
  },
  {
   "cell_type": "code",
   "execution_count": 103,
   "metadata": {},
   "outputs": [
    {
     "data": {
      "text/html": [
       "<div>\n",
       "<style scoped>\n",
       "    .dataframe tbody tr th:only-of-type {\n",
       "        vertical-align: middle;\n",
       "    }\n",
       "\n",
       "    .dataframe tbody tr th {\n",
       "        vertical-align: top;\n",
       "    }\n",
       "\n",
       "    .dataframe thead th {\n",
       "        text-align: right;\n",
       "    }\n",
       "</style>\n",
       "<table border=\"1\" class=\"dataframe\">\n",
       "  <thead>\n",
       "    <tr style=\"text-align: right;\">\n",
       "      <th>Location</th>\n",
       "      <th>Zone 1</th>\n",
       "      <th>Zone 2</th>\n",
       "      <th>Zone 3</th>\n",
       "    </tr>\n",
       "  </thead>\n",
       "  <tbody>\n",
       "    <tr>\n",
       "      <th>count</th>\n",
       "      <td>500838.000000</td>\n",
       "      <td>250369.000000</td>\n",
       "      <td>248691.000000</td>\n",
       "    </tr>\n",
       "    <tr>\n",
       "      <th>mean</th>\n",
       "      <td>3.548539</td>\n",
       "      <td>3.547385</td>\n",
       "      <td>3.552541</td>\n",
       "    </tr>\n",
       "    <tr>\n",
       "      <th>std</th>\n",
       "      <td>0.601659</td>\n",
       "      <td>0.598676</td>\n",
       "      <td>0.598513</td>\n",
       "    </tr>\n",
       "    <tr>\n",
       "      <th>min</th>\n",
       "      <td>0.000000</td>\n",
       "      <td>0.230000</td>\n",
       "      <td>0.000000</td>\n",
       "    </tr>\n",
       "    <tr>\n",
       "      <th>25%</th>\n",
       "      <td>3.210000</td>\n",
       "      <td>3.200000</td>\n",
       "      <td>3.220000</td>\n",
       "    </tr>\n",
       "    <tr>\n",
       "      <th>50%</th>\n",
       "      <td>3.870000</td>\n",
       "      <td>3.860000</td>\n",
       "      <td>3.880000</td>\n",
       "    </tr>\n",
       "    <tr>\n",
       "      <th>75%</th>\n",
       "      <td>4.000000</td>\n",
       "      <td>4.000000</td>\n",
       "      <td>4.000000</td>\n",
       "    </tr>\n",
       "    <tr>\n",
       "      <th>max</th>\n",
       "      <td>4.000000</td>\n",
       "      <td>4.000000</td>\n",
       "      <td>4.000000</td>\n",
       "    </tr>\n",
       "  </tbody>\n",
       "</table>\n",
       "</div>"
      ],
      "text/plain": [
       "Location         Zone 1         Zone 2         Zone 3\n",
       "count     500838.000000  250369.000000  248691.000000\n",
       "mean           3.548539       3.547385       3.552541\n",
       "std            0.601659       0.598676       0.598513\n",
       "min            0.000000       0.230000       0.000000\n",
       "25%            3.210000       3.200000       3.220000\n",
       "50%            3.870000       3.860000       3.880000\n",
       "75%            4.000000       4.000000       4.000000\n",
       "max            4.000000       4.000000       4.000000"
      ]
     },
     "execution_count": 103,
     "metadata": {},
     "output_type": "execute_result"
    }
   ],
   "source": [
    "all_data.groupby('Location')['gpa'].describe().T"
   ]
  },
  {
   "cell_type": "code",
   "execution_count": 88,
   "metadata": {},
   "outputs": [],
   "source": [
    "del all_data['lat']\n",
    "del all_data['lon']"
   ]
  },
  {
   "cell_type": "markdown",
   "metadata": {},
   "source": [
    "Approximately half of the students live in Zone 1, which is Latitude: (38,41), Longitude: (-80, -75), approximately a quarter of the students live in Zone 2 and Zone 3 each, which are  Latitude: (38,41), Longitude: (-96, -92) and Latitude: (31,35), Longitude: (-90, -86) respectively. Each zone appears to have similar GPAs and may not be a great predictor of GPA."
   ]
  },
  {
   "cell_type": "markdown",
   "metadata": {},
   "source": [
    "# Evaluation"
   ]
  },
  {
   "cell_type": "markdown",
   "metadata": {},
   "source": [
    "There are several issues with evaluating this problem. \n",
    "\n",
    "Firstly, the overwhelming amount of students with a 4.0 GPA. As discovered during data exploration, nearly half of the student semesters in the data set have a 4.0 GPA. Thus, our dependant variable has an abnormal distribution. To combat this, the GPAs were square root transformed prior to training models.\n",
    "\n",
    "Secondly, an assumption was made about how to deal with Null values in the 'tutoring' variable to fill them with 'No.' If this assumption is incorrect and these students might have recieved tutoring, this could cause innacuracies in the models.\n",
    "\n",
    "Third, a disproportionate amount of students recieved tutoring compared to those who did not. Less than 10% of students recieved tutoring. A correlation between this variable and grade was found during data exploration, but this correlation may be due to chance due to the few number of students who actually received tutoring.\n",
    "\n",
    "Lastly, GPA is a difficult metric to predict as it is capped at 4.0. Predictions over 4.0 may be penalized even though they should not be. These predictions should be interpreted as correct if the actual student's GPA was 4.0.\n",
    "\n",
    "To evalute the models, Root Mean Square Error (RMSE) will be used. This will be used due to the fact that our dependent variable is on a small scale (0 to 4.0). RMSE will penalize incorrect predictions more the further they are from the true value, this is necessary when working in such a small range of values."
   ]
  },
  {
   "cell_type": "markdown",
   "metadata": {},
   "source": [
    "# Modeling"
   ]
  },
  {
   "cell_type": "markdown",
   "metadata": {},
   "source": [
    "## Preprocessing"
   ]
  },
  {
   "cell_type": "code",
   "execution_count": 89,
   "metadata": {},
   "outputs": [],
   "source": [
    "from sklearn.compose import ColumnTransformer\n",
    "from sklearn.pipeline import Pipeline\n",
    "from sklearn.impute import SimpleImputer\n",
    "from sklearn.preprocessing import StandardScaler, OneHotEncoder, MinMaxScaler"
   ]
  },
  {
   "cell_type": "markdown",
   "metadata": {},
   "source": [
    "#### Create transformers for numeric, categorical data and GPA\n",
    "\n",
    "Include imputer in case there are missing values that weren't detected before. For numeric, include a scaler in case any variables need to be scaled. For categorical, include one hot encoder to one hot encode the data."
   ]
  },
  {
   "cell_type": "code",
   "execution_count": 90,
   "metadata": {},
   "outputs": [],
   "source": [
    "numeric_transformer = Pipeline(steps=[\n",
    "    ('imputer', SimpleImputer(strategy='mean')),\n",
    "    ('scaler', StandardScaler())\n",
    "])\n",
    "\n",
    "categorical_transformer = Pipeline(steps=[\n",
    "    ('imputer', SimpleImputer(strategy='constant', fill_value='missing')),\n",
    "    ('onehot', OneHotEncoder(handle_unknown='ignore', sparse= False))\n",
    "])"
   ]
  },
  {
   "cell_type": "code",
   "execution_count": 91,
   "metadata": {},
   "outputs": [],
   "source": [
    "categorical_cols = all_data.select_dtypes(include=['object', 'category']).columns\n",
    "numeric_cols = all_data.select_dtypes(include=['int64', 'float64']).columns"
   ]
  },
  {
   "cell_type": "markdown",
   "metadata": {},
   "source": [
    "#### Remove GPA from numeric columns"
   ]
  },
  {
   "cell_type": "code",
   "execution_count": 92,
   "metadata": {},
   "outputs": [],
   "source": [
    "numeric_cols = numeric_cols.drop('gpa')"
   ]
  },
  {
   "cell_type": "markdown",
   "metadata": {},
   "source": [
    "#### Combine preprocessors and create pipeline"
   ]
  },
  {
   "cell_type": "code",
   "execution_count": 93,
   "metadata": {},
   "outputs": [],
   "source": [
    "preprocessor = ColumnTransformer(\n",
    "    transformers=[\n",
    "        ('num', numeric_transformer, numeric_cols),\n",
    "        ('cat', categorical_transformer, categorical_cols)\n",
    "    ], remainder='passthrough'\n",
    ")\n",
    "\n",
    "pipeline = Pipeline(steps=[\n",
    "    ('prepreocessor,', preprocessor)\n",
    "])"
   ]
  },
  {
   "cell_type": "markdown",
   "metadata": {},
   "source": [
    "#### Apply preprocessor to data\n",
    "Square root transform GPA to account for the grade inflation and make the distribution slightly more normal"
   ]
  },
  {
   "cell_type": "code",
   "execution_count": 94,
   "metadata": {},
   "outputs": [],
   "source": [
    "x = all_data.drop('gpa', axis=1)\n",
    "y = np.sqrt(all_data['gpa'])\n",
    "preprocessed_x = pipeline.fit_transform(x)"
   ]
  },
  {
   "cell_type": "code",
   "execution_count": 95,
   "metadata": {},
   "outputs": [],
   "source": [
    "from sklearn.linear_model import LinearRegression\n",
    "from sklearn.ensemble import RandomForestRegressor\n",
    "from sklearn.neighbors import KNeighborsRegressor\n",
    "from sklearn.model_selection import train_test_split, GridSearchCV, KFold, cross_val_score"
   ]
  },
  {
   "cell_type": "markdown",
   "metadata": {},
   "source": [
    "## Training"
   ]
  },
  {
   "cell_type": "code",
   "execution_count": 96,
   "metadata": {},
   "outputs": [],
   "source": [
    "models = {\n",
    "    'LinearRegression': LinearRegression(),\n",
    "    'RandomForest': RandomForestRegressor(random_state=40),\n",
    "    'KNN': KNeighborsRegressor()\n",
    "}"
   ]
  },
  {
   "cell_type": "markdown",
   "metadata": {},
   "source": [
    "The three types of models that will be trained are Linear Regression, Random Forest, and KNN Regressor."
   ]
  },
  {
   "cell_type": "markdown",
   "metadata": {},
   "source": [
    "#### Define the hyperparameters that will be tested for each model\n",
    "Using SKLearn's Grid Search CV to test for optimal hyperparameters"
   ]
  },
  {
   "cell_type": "code",
   "execution_count": 97,
   "metadata": {},
   "outputs": [],
   "source": [
    "params = {\n",
    "    'LinearRegression': {},\n",
    "    'KNN': {\n",
    "        'n_neighbors': [5, 10, 15],\n",
    "    },\n",
    "    'RandomForest': {\n",
    "        'max_depth': [10, 30],\n",
    "        'n_estimators': [100, 200],\n",
    "        'min_samples_split': [2, 5]\n",
    "    }\n",
    "}"
   ]
  },
  {
   "cell_type": "markdown",
   "metadata": {},
   "source": [
    "#### Create test and train split"
   ]
  },
  {
   "cell_type": "code",
   "execution_count": 98,
   "metadata": {},
   "outputs": [],
   "source": [
    "x_train, x_test, y_train, y_test = train_test_split(preprocessed_x, y, test_size = 0.2, random_state=40)"
   ]
  },
  {
   "cell_type": "markdown",
   "metadata": {},
   "source": [
    "#### Use 2-fold Cross Validation"
   ]
  },
  {
   "cell_type": "code",
   "execution_count": 99,
   "metadata": {},
   "outputs": [],
   "source": [
    "cv = KFold(n_splits=2, shuffle=True, random_state=40)"
   ]
  },
  {
   "cell_type": "markdown",
   "metadata": {},
   "source": [
    "#### Train and optimze models\n",
    "Using RMSE to evaluate the models"
   ]
  },
  {
   "cell_type": "code",
   "execution_count": 100,
   "metadata": {},
   "outputs": [
    {
     "name": "stdout",
     "output_type": "stream",
     "text": [
      "Training LinearRegression\n",
      "Fitting 2 folds for each of 1 candidates, totalling 2 fits\n",
      "[CV] END .................................................... total time=   0.6s\n",
      "[CV] END .................................................... total time=   0.4s\n",
      "Optimal Parameters for LinearRegression: {}\n",
      "Best RMSE for LinearRegression: 0.11951767249465678\n",
      "Training RandomForest\n",
      "Fitting 2 folds for each of 8 candidates, totalling 16 fits\n",
      "[CV] END max_depth=10, min_samples_split=2, n_estimators=100; total time= 2.1min\n",
      "[CV] END max_depth=10, min_samples_split=2, n_estimators=100; total time= 2.1min\n",
      "[CV] END max_depth=10, min_samples_split=2, n_estimators=200; total time= 4.3min\n",
      "[CV] END max_depth=10, min_samples_split=2, n_estimators=200; total time= 9.4min\n",
      "[CV] END max_depth=10, min_samples_split=5, n_estimators=100; total time= 2.2min\n",
      "[CV] END max_depth=10, min_samples_split=5, n_estimators=100; total time= 2.2min\n",
      "[CV] END max_depth=10, min_samples_split=5, n_estimators=200; total time= 4.5min\n",
      "[CV] END max_depth=10, min_samples_split=5, n_estimators=200; total time= 4.4min\n",
      "[CV] END max_depth=30, min_samples_split=2, n_estimators=100; total time= 3.2min\n",
      "[CV] END max_depth=30, min_samples_split=2, n_estimators=100; total time= 3.7min\n",
      "[CV] END max_depth=30, min_samples_split=2, n_estimators=200; total time=10.6min\n",
      "[CV] END max_depth=30, min_samples_split=2, n_estimators=200; total time= 6.4min\n",
      "[CV] END max_depth=30, min_samples_split=5, n_estimators=100; total time= 3.0min\n",
      "[CV] END max_depth=30, min_samples_split=5, n_estimators=100; total time= 3.0min\n",
      "[CV] END max_depth=30, min_samples_split=5, n_estimators=200; total time= 6.0min\n",
      "[CV] END max_depth=30, min_samples_split=5, n_estimators=200; total time= 5.9min\n",
      "Optimal Parameters for RandomForest: {'max_depth': 30, 'min_samples_split': 5, 'n_estimators': 200}\n",
      "Best RMSE for RandomForest: 0.09206142581160463\n",
      "Training KNN\n",
      "Fitting 2 folds for each of 3 candidates, totalling 6 fits\n",
      "[CV] END ......................................n_neighbors=5; total time=42.3min\n",
      "[CV] END ......................................n_neighbors=5; total time=43.3min\n",
      "[CV] END .....................................n_neighbors=10; total time=40.6min\n",
      "[CV] END .....................................n_neighbors=10; total time=42.6min\n",
      "[CV] END .....................................n_neighbors=15; total time=40.8min\n",
      "[CV] END .....................................n_neighbors=15; total time=45.6min\n",
      "Optimal Parameters for KNN: {'n_neighbors': 15}\n",
      "Best RMSE for KNN: 0.10188729426662232\n"
     ]
    }
   ],
   "source": [
    "grids = {}\n",
    "for name, model in models.items():\n",
    "    print(f'Training {name}')\n",
    "    grids[name] = GridSearchCV(estimator=model, param_grid=params[name], cv=cv, scoring='neg_mean_squared_error',verbose=2)\n",
    "    grids[name].fit(x_train, y_train)\n",
    "    optimal_params = grids[name].best_params_\n",
    "    best_score = np.sqrt(-1*grids[name].best_score_)\n",
    "    print(f'Optimal Parameters for {name}: {optimal_params}\\nBest RMSE for {name}: {best_score}')"
   ]
  },
  {
   "cell_type": "markdown",
   "metadata": {},
   "source": [
    "After training the three types of models over several different combinations of hyperparameters, a Random Forest Regression model with 200 trees, a max depth of 30, and a minimum of 5 samples required to split a node produced the most accurate results. The hyperparameters selected can be trusted to be fairly optimal due to 16 different combinations of parameters being tested. The RMSE for this model using 2-fold cross validation was 0.092. This indicates that the square root of the variance of the residuals was 0.092."
   ]
  },
  {
   "cell_type": "markdown",
   "metadata": {},
   "source": [
    "## Testing my own information"
   ]
  },
  {
   "cell_type": "code",
   "execution_count": 125,
   "metadata": {},
   "outputs": [],
   "source": [
    "my_info = {'id': [116624480,123456,123456,123466,123456], 'avg_hours_studied': [5,10,0,1,2], \n",
    "                  'parents_income': [190000,100000,100000,150000,150000], 'major': ['CS', 'Math', 'Engineering', 'English', 'Physics'], \n",
    "                  'tutoring': ['No', 'Yes','Yes','Yes','Yes'], 'semester': ['Spring', 'Fall', 'Spring', 'Fall', 'Spring'], 'credits': [16, 15,12,9,12],\n",
    "                  'student_age': [22,21,20,19,18], 'student_year': ['Senior','Sophomore','Junior','Freshman','Senior'],\n",
    "                  'year': [2023,2022,2021,2020,2019], 'Location': ['Zone 1', 'Zone 2', 'Zone 3', 'Zone 1', 'Zone 2']}\n",
    "my_data = pd.DataFrame.from_dict(my_info)"
   ]
  },
  {
   "cell_type": "code",
   "execution_count": 124,
   "metadata": {},
   "outputs": [
    {
     "name": "stdout",
     "output_type": "stream",
     "text": [
      "My predicted GPA at this University would be 3.86\n"
     ]
    }
   ],
   "source": [
    "preprocessed = pipeline.fit_transform(my_data)\n",
    "my_gpa = grids['RandomForest'].predict(preprocessed)\n",
    "print(f'My predicted GPA at this University would be {round(np.power(my_gpa[0],2),2)}')"
   ]
  },
  {
   "cell_type": "markdown",
   "metadata": {},
   "source": [
    "After entering my own information into my model, my predicted GPA for this semester would be 3.86. My actual GPA is either going to be 3.83 ot 3.88 this semester, making this prediction extremely accurate."
   ]
  },
  {
   "cell_type": "markdown",
   "metadata": {},
   "source": [
    "# Conclusion"
   ]
  },
  {
   "cell_type": "markdown",
   "metadata": {},
   "source": [
    "## Process"
   ]
  },
  {
   "cell_type": "markdown",
   "metadata": {},
   "source": [
    "After exploring the data, it was clear which variables would be useful and what preprocessing and feature engineering was required for the data.\n",
    "\n",
    "The data required binning (latitude and longitude), dealing with outliers (hours studied), and missing value replacement (tutoring) in order to have clean data.\n",
    "\n",
    "Once this was completed, I trained three types of models. I used grid search CV in order to test 22 combinations of hyperparameters across the three models. This produced RMSEs ranging from 0.092 to 0.12 across the three types of models."
   ]
  },
  {
   "cell_type": "markdown",
   "metadata": {},
   "source": [
    "## Model Success"
   ]
  },
  {
   "cell_type": "markdown",
   "metadata": {},
   "source": [
    "As stated above, the most accurate model trained was a Random Forest Regression model with 200 trees, a max depth of 30, and a minimum of 5 samples required to split a node. This model produced a RMSE of 0.092. For a model predicting GPAs on a scale of 0 to 4.0, this is a fairly good RMSE. I feel that my model was quite successful in predicting GPA. The fact that the model was able to predict my own GPA with high accuracy makes me feel more satisfied with the result of my model."
   ]
  },
  {
   "cell_type": "markdown",
   "metadata": {},
   "source": [
    "## Moving Forward"
   ]
  },
  {
   "cell_type": "markdown",
   "metadata": {},
   "source": [
    "If I were to move forward with predicting GPA, there is different types of data that would further improve my predictions.\n",
    "\n",
    "One dataset that would be useful is a dataset about the specific classes at the university. This dataset would include things like the professor teaching the class, the level of the class, and the average GPA of the class. Then I would need the student dataset to include the specific classes that they took in that semester as well. I believe that the classes that someone takes in a semester has a significant impact on their GPA that semester and this would help improve my predictions.\n",
    "\n",
    "Some other data that would be interesting to explore in relation to GPA could be other characteristics of the students. Things such as gender, height, what type of highschool they went to, etc. would be interesting to explore to see if they had a correlation to GPA."
   ]
  }
 ],
 "metadata": {
  "kernelspec": {
   "display_name": "Python 3 (ipykernel)",
   "language": "python",
   "name": "python3"
  },
  "language_info": {
   "codemirror_mode": {
    "name": "ipython",
    "version": 3
   },
   "file_extension": ".py",
   "mimetype": "text/x-python",
   "name": "python",
   "nbconvert_exporter": "python",
   "pygments_lexer": "ipython3",
   "version": "3.9.7"
  }
 },
 "nbformat": 4,
 "nbformat_minor": 4
}
